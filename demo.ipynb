{
 "cells": [
  {
   "cell_type": "markdown",
   "id": "81f7f3a3-eaf6-4a85-a34b-86b4c7ad4097",
   "metadata": {},
   "source": [
    "# Mikerograd Demo\n",
    "\n",
    "Hi! Thanks for checking out this Julia library!\n",
    "\n",
    "This library is based on Andrej Karpathy's Micrograd (which is in Python), and has a similar goal: to provide basic gradient-tracking, with code **simple enough to read** and **easy enough to edit and customize.** \n",
    "\n",
    "Like the original Python Micrograd, we'll be using a *Value* class for scalar-based gradient tracking. \n",
    "\n",
    "In addition, I've also added a *Tensor* class for array/matrix-based gradient tracking. Even though this wasn't included in the original Micrograd, I decided to add it so we could do simple examples like MNIST without the code taking forever.\n",
    "\n",
    "I'm hoping that this will be a useful resource for people who are just getting started with Julia and trying to learn the basics. "
   ]
  },
  {
   "cell_type": "markdown",
   "id": "dad62dac-50d9-4d23-add0-f65eaae32189",
   "metadata": {},
   "source": [
    "## Setup and Import\n",
    "\n",
    "Right now there's no fancy installation with a package manager or anything. You need to actually download the *mikerograd.jl* file form this repo, put it somewhere on your computer, and then direct Julia to it's location in order to use it. Like this, but replace the location with its location on your computer:"
   ]
  },
  {
   "cell_type": "code",
   "execution_count": 26,
   "id": "b8f92e1d-1b24-48db-9c9a-0f884c4d61f5",
   "metadata": {},
   "outputs": [],
   "source": [
    "push!(LOAD_PATH, \"/Users/mikesaint-antoine/Desktop/mikerograd_folder\") \n",
    "# change this to the location of the folder where mikerograd.jl is on your computer\n",
    "\n",
    "using mikerograd"
   ]
  },
  {
   "cell_type": "markdown",
   "id": "e8582d73-c056-4aff-b7ac-bb6859028f58",
   "metadata": {},
   "source": [
    "## *Value* Class\n",
    "\n",
    "There are two types of objects in mikerograd: *Values* and *Tensors*. Let's try out some examples with *Values* first. \n",
    "\n",
    "Here's how you define one:"
   ]
  },
  {
   "cell_type": "code",
   "execution_count": 27,
   "id": "6024f2e6-360d-4ff6-a047-948ad0670ed1",
   "metadata": {},
   "outputs": [
    {
     "name": "stdout",
     "output_type": "stream",
     "text": [
      "Value(4.0)\n"
     ]
    }
   ],
   "source": [
    "x = Value(4.0);\n",
    "\n",
    "println(x)"
   ]
  },
  {
   "cell_type": "markdown",
   "id": "4a9d7636-3142-4fc4-80c9-755ad7a40ace",
   "metadata": {},
   "source": [
    "*Value* objects can store numbers, perform operations, and automatically track the gradients of the outputs.\n",
    "\n",
    "Here's how you take a look at the number a *Value* is storing, and it's gradient:"
   ]
  },
  {
   "cell_type": "code",
   "execution_count": 28,
   "id": "11f27b23-8bf7-49da-806b-d40439499d1d",
   "metadata": {},
   "outputs": [
    {
     "name": "stdout",
     "output_type": "stream",
     "text": [
      "4.0\n"
     ]
    }
   ],
   "source": [
    "println(x.data) # the number, which is 4 in this case"
   ]
  },
  {
   "cell_type": "code",
   "execution_count": 29,
   "id": "796b31d2-302d-47e7-93f9-0b1577bff269",
   "metadata": {},
   "outputs": [
    {
     "name": "stdout",
     "output_type": "stream",
     "text": [
      "0.0\n"
     ]
    }
   ],
   "source": [
    "println(x.grad) # the gradient, which is 0 for now, but will be automatically tracked as we do operations"
   ]
  },
  {
   "cell_type": "markdown",
   "id": "9d6a5a0a-e14f-4765-ad04-fac59f3d90da",
   "metadata": {},
   "source": [
    "Next let's try an operation. We'll define another *Value* called **y**, add it to **x**, and save the result as **z**"
   ]
  },
  {
   "cell_type": "code",
   "execution_count": 30,
   "id": "925a65a1-78b4-4bc0-aafa-27270af8c5ed",
   "metadata": {},
   "outputs": [
    {
     "name": "stdout",
     "output_type": "stream",
     "text": [
      "Value(7.0)\n"
     ]
    }
   ],
   "source": [
    "y = Value(3.0);\n",
    "z = x + y;\n",
    "\n",
    "println(z)"
   ]
  },
  {
   "cell_type": "markdown",
   "id": "b0eca4eb-a1a2-4f4d-aeae-c29c54ffe28f",
   "metadata": {},
   "source": [
    "Pretty simple so far, right? But here's the cool part -- we can now do a backward pass to calculate the derivative of **z** with respect to **x** and **y**. Here's how we do that:"
   ]
  },
  {
   "cell_type": "code",
   "execution_count": 31,
   "id": "7902c19a-2631-42a9-a6fd-0c30ec64481e",
   "metadata": {},
   "outputs": [],
   "source": [
    "backward(z)"
   ]
  },
  {
   "cell_type": "markdown",
   "id": "95d3ced2-64e8-42ae-b0e0-af6c5dd45531",
   "metadata": {},
   "source": [
    "Now, the **grad** fields of **x** and **y** are populated, and will tell us the derivative of **z** with respect to each of the inputs **x** and **y**.\n"
   ]
  },
  {
   "cell_type": "code",
   "execution_count": 32,
   "id": "9a182472-bcfa-4d5c-8d5b-639a6af84861",
   "metadata": {},
   "outputs": [
    {
     "name": "stdout",
     "output_type": "stream",
     "text": [
      "1.0\n"
     ]
    }
   ],
   "source": [
    "println(x.grad) # dz/dx = 1, meaning an increase of 1 in x will lead to an increase of 1 in z."
   ]
  },
  {
   "cell_type": "code",
   "execution_count": 33,
   "id": "22315e24-5cb2-468a-93c4-1daf8d09c48c",
   "metadata": {},
   "outputs": [
    {
     "name": "stdout",
     "output_type": "stream",
     "text": [
      "1.0\n"
     ]
    }
   ],
   "source": [
    "println(y.grad) # dy/dx = 1, meaning an increase of 1 in y will lead to an increase of 1 in z."
   ]
  },
  {
   "cell_type": "markdown",
   "id": "7bb885f1-4d80-4a87-967e-e160106ed52e",
   "metadata": {},
   "source": [
    "Pretty cool, right? So that's the basic functionality of the *Value* class. You can store store numbers, do operations, and track the derivative of the output with respect to all of the inputs. This allows you to, for example, minimize a loss function through gradient-descent.\n",
    "\n",
    "Here's a list of the operations currently supported:\n",
    "* **Addition**\n",
    "* **Subtraction**\n",
    "* **Multiplication**\n",
    "* **Division**\n",
    "* **Exponents**\n",
    "* **e^x**\n",
    "* **log()**\n",
    "* **tanh()**\n",
    "\n",
    "These are basically the same as in Karpathy's Python Micrograd, and basically implemented the same way. Let's test a couple of them out. We've already done addition, so let's try subtraction."
   ]
  },
  {
   "cell_type": "code",
   "execution_count": 34,
   "id": "87d75160-71b3-4f22-ac55-e6772879850b",
   "metadata": {},
   "outputs": [
    {
     "name": "stdout",
     "output_type": "stream",
     "text": [
      "Value(7.0)\n"
     ]
    }
   ],
   "source": [
    "# subtraction\n",
    "x = Value(10.0);\n",
    "y = Value(3.0);\n",
    "z = x - y;\n",
    "\n",
    "println(z)"
   ]
  },
  {
   "cell_type": "markdown",
   "id": "10415506-d5f6-466d-8ab0-0bd548dd2561",
   "metadata": {},
   "source": [
    "If you want, you can try **backward(z)**, and you should be able to find **x.grad** = *dz/dx* = 1 and **y.grad** = *dz/dy* = -1. But I'll skip over that for now.\n",
    "\n",
    "Next let's try multiplication."
   ]
  },
  {
   "cell_type": "code",
   "execution_count": 35,
   "id": "0d148769-4b01-40b9-93d9-fbad9e770c12",
   "metadata": {},
   "outputs": [
    {
     "name": "stdout",
     "output_type": "stream",
     "text": [
      "Value(12.0)\n"
     ]
    }
   ],
   "source": [
    "# multiplication\n",
    "x = Value(6.0);\n",
    "y = Value(2.0);\n",
    "z = x * y;\n",
    "\n",
    "println(z)"
   ]
  },
  {
   "cell_type": "markdown",
   "id": "670b4539-227c-41b3-a7b1-e298052a758c",
   "metadata": {},
   "source": [
    "And again, we can get the derivative with of **z** with respect to **x** and **y**."
   ]
  },
  {
   "cell_type": "code",
   "execution_count": 36,
   "id": "1fd9d921-4ecf-4f2f-9c78-59c4f47e74f5",
   "metadata": {},
   "outputs": [
    {
     "name": "stdout",
     "output_type": "stream",
     "text": [
      "2.0\n",
      "6.0\n"
     ]
    }
   ],
   "source": [
    "# backward pass for multiplication\n",
    "backward(z)\n",
    "println(x.grad) # dz/dx = y = 2\n",
    "println(y.grad) # dz/dy = x = 6"
   ]
  },
  {
   "cell_type": "markdown",
   "id": "4b6be387-2571-427e-a96d-4abd5b2f15e8",
   "metadata": {},
   "source": [
    "Alright, so far so good! Let's try division now..."
   ]
  },
  {
   "cell_type": "code",
   "execution_count": 37,
   "id": "7da2c2bf-d47f-4c1c-bcbe-8881e59cdfc0",
   "metadata": {},
   "outputs": [
    {
     "name": "stdout",
     "output_type": "stream",
     "text": [
      "Value(3.0)\n"
     ]
    }
   ],
   "source": [
    "# division\n",
    "x = Value(15.0);\n",
    "y = Value(5.0);\n",
    "z = x / y;\n",
    "\n",
    "println(z)"
   ]
  },
  {
   "cell_type": "code",
   "execution_count": 38,
   "id": "22890331-0e73-41ca-b9d8-e95590cae814",
   "metadata": {},
   "outputs": [
    {
     "name": "stdout",
     "output_type": "stream",
     "text": [
      "0.2\n",
      "-0.6\n"
     ]
    }
   ],
   "source": [
    "# backward pass for division\n",
    "backward(z)\n",
    "println(x.grad) # dz/dx = 1/5 = 0.2\n",
    "println(y.grad) # dz/dy = -15 / x^2 = -0.6"
   ]
  },
  {
   "cell_type": "markdown",
   "id": "f847c352-2fd1-4c99-a69d-b4c5a8baa0ce",
   "metadata": {},
   "source": [
    "Ok, now let's try exponents. **NOTE:** just as in the original Micrograd, the exponents here must be an int or float, NOT a *Value* object. Might work on fixing this later."
   ]
  },
  {
   "cell_type": "code",
   "execution_count": 39,
   "id": "6cc1288a-726e-40ce-b44f-382fc30c0b7b",
   "metadata": {},
   "outputs": [
    {
     "name": "stdout",
     "output_type": "stream",
     "text": [
      "Value(25.0)\n"
     ]
    }
   ],
   "source": [
    "# exponents\n",
    "x = Value(5.0);\n",
    "y = 2; # NOTE - exponent can't be Value, must be int or float\n",
    "z = x^y;\n",
    "\n",
    "println(z)"
   ]
  },
  {
   "cell_type": "code",
   "execution_count": 40,
   "id": "9b6574e3-ffc3-49aa-8c97-d9694f62bafb",
   "metadata": {},
   "outputs": [
    {
     "name": "stdout",
     "output_type": "stream",
     "text": [
      "10.0\n"
     ]
    }
   ],
   "source": [
    "# backward pass for exponent\n",
    "backward(z)\n",
    "println(x.grad) # dz/dx = 2x = 10"
   ]
  },
  {
   "cell_type": "markdown",
   "id": "caebca72-3ad4-45c4-abfc-8e69e91a5025",
   "metadata": {},
   "source": [
    "Ok, now for the exponential function e^x, which we will call **exp()**."
   ]
  },
  {
   "cell_type": "code",
   "execution_count": 41,
   "id": "6972d607-5a0b-4e69-8340-e1ad127635f0",
   "metadata": {},
   "outputs": [
    {
     "name": "stdout",
     "output_type": "stream",
     "text": [
      "Value(7.38905609893065)\n"
     ]
    }
   ],
   "source": [
    "# e^x\n",
    "x = Value(2.0);\n",
    "z = exp(x);\n",
    "\n",
    "println(z)"
   ]
  },
  {
   "cell_type": "code",
   "execution_count": 42,
   "id": "b8869992-6c1c-45e5-847a-94fe5d740421",
   "metadata": {},
   "outputs": [
    {
     "name": "stdout",
     "output_type": "stream",
     "text": [
      "7.38905609893065\n"
     ]
    }
   ],
   "source": [
    "# backward pass for e^x\n",
    "backward(z)\n",
    "println(x.grad) # dz/dx = e^x = (same thing we got for above)"
   ]
  },
  {
   "cell_type": "markdown",
   "id": "244f174b-385c-475a-9c0b-6f03a4c0a729",
   "metadata": {},
   "source": [
    "Ok, now for the natural logarithm, which we call **log()**."
   ]
  },
  {
   "cell_type": "code",
   "execution_count": 43,
   "id": "94abe7fe-1158-4ed1-8acf-abd5623c0163",
   "metadata": {},
   "outputs": [
    {
     "name": "stdout",
     "output_type": "stream",
     "text": [
      "Value(2.302585092994046)\n"
     ]
    }
   ],
   "source": [
    "# natural log\n",
    "x = Value(10.0);\n",
    "z = log(x);\n",
    "\n",
    "println(z)"
   ]
  },
  {
   "cell_type": "code",
   "execution_count": 44,
   "id": "9c407251-8853-4c4f-94ad-be88d1bd0635",
   "metadata": {},
   "outputs": [
    {
     "name": "stdout",
     "output_type": "stream",
     "text": [
      "0.1\n"
     ]
    }
   ],
   "source": [
    "# backward pass for natural log\n",
    "backward(z)\n",
    "println(x.grad) # dz/dx = 1/x = 0.1"
   ]
  },
  {
   "cell_type": "markdown",
   "id": "d41c1d09-7bf8-425f-a56c-665abffd161c",
   "metadata": {},
   "source": [
    "Lastly, the **tanh()** function. Personally my trig is pretty rusty and I don't use this function very often, but I'm including it because it was in the original Micrograd. I think Karpathy included it to use as a possible activation function for a linear layer of neurons, to add nonlinearity and bound the layer outputs on [-1, 1]."
   ]
  },
  {
   "cell_type": "code",
   "execution_count": 45,
   "id": "71987663-a95c-45e3-b7cb-5dedc49a498f",
   "metadata": {},
   "outputs": [
    {
     "name": "stdout",
     "output_type": "stream",
     "text": [
      "Value(0.9950547536867305)\n"
     ]
    }
   ],
   "source": [
    "# tanh()\n",
    "x = Value(3.0);\n",
    "z = tanh(x);\n",
    "\n",
    "println(z)"
   ]
  },
  {
   "cell_type": "code",
   "execution_count": 46,
   "id": "15cd0ba5-10e9-44df-9220-94243e96e8c8",
   "metadata": {},
   "outputs": [
    {
     "name": "stdout",
     "output_type": "stream",
     "text": [
      "0.009866037165440211\n"
     ]
    }
   ],
   "source": [
    "# backward pass for tanh()\n",
    "backward(z)\n",
    "println(x.grad) # dz/dx = 1 - tanh^2(x) = ????"
   ]
  },
  {
   "cell_type": "markdown",
   "id": "7b226f52-f68c-472a-903b-7905b13f55b2",
   "metadata": {},
   "source": [
    "So far these examples have been pretty simple. But as long as we're using these simple functions, we can combine them in pretty complicated ways. The gradients can still be calculated for all the inputs, using backpropagation and the chain rule of derivatives.\n",
    "\n",
    "Let's try out a complicated example to see this..."
   ]
  },
  {
   "cell_type": "code",
   "execution_count": 47,
   "id": "93b78f87-dcf4-444d-a489-c60b2ad7eedb",
   "metadata": {},
   "outputs": [
    {
     "name": "stdout",
     "output_type": "stream",
     "text": [
      "Value(0.20683027474728832)\n"
     ]
    }
   ],
   "source": [
    "input1 = Value(2.3);\n",
    "input2 = Value(-3.5);\n",
    "input3 = Value(3.9);\n",
    "\n",
    "weight1 = Value(-0.8);\n",
    "weight2 = Value(1.8);\n",
    "weight3 = Value(3.0);\n",
    "\n",
    "bias = Value(-3.2);\n",
    "\n",
    "y_pred = tanh(input1*weight1 + input2*weight2 + input3*weight3 + bias);\n",
    "y_true = Value(0.8);\n",
    "\n",
    "loss = (y_pred - y_true)^2;\n",
    "\n",
    "println(loss)"
   ]
  },
  {
   "cell_type": "markdown",
   "id": "859fa88f-7c0d-4771-8186-8f0b6af0fd92",
   "metadata": {},
   "source": [
    "Here we're using 3 inputs, 3 weights, a bias, and a tanh() activation function to come up with some prediction in a regression problem, and calculating a loss by comparing it to the target value.\n",
    "\n",
    "Even though this looks pretty complicated, we can still use **backward(loss)** to calculate the derivative of the loss with respect to everything."
   ]
  },
  {
   "cell_type": "code",
   "execution_count": 48,
   "id": "e704e8d6-099d-46bf-ba98-3306f442daf5",
   "metadata": {},
   "outputs": [
    {
     "name": "stdout",
     "output_type": "stream",
     "text": [
      "-1.8427042527651991\n",
      "2.80411516725139\n",
      "-3.12458547208012\n",
      "-0.8011757620718257\n"
     ]
    }
   ],
   "source": [
    "backward(loss)\n",
    "\n",
    "println(weight1.grad) # dloss/dweight1\n",
    "println(weight2.grad) # dloss/dweight2\n",
    "println(weight3.grad) # dloss/dweight3\n",
    "println(bias.grad) # dloss/dbias\n",
    "\n",
    "# if you wanted, you could also see the derivatives of the loss with respect to the inputs, y_pred, or y_true\n",
    "# although in a typically neural net situation, those variables would not be updated in the gradient descent"
   ]
  },
  {
   "cell_type": "markdown",
   "id": "dd5c17f6-0ee7-491e-8ea5-0b7cd675ea8f",
   "metadata": {},
   "source": [
    "## Linear Regression Example\n",
    "\n",
    "Let's try using the *Value* class to fit a line to data, using gradient descent.\n",
    "\n",
    "First, we'll make up some fake data of two things that are linearly related.\n"
   ]
  },
  {
   "cell_type": "code",
   "execution_count": 49,
   "id": "0c9dbe6f-ceb5-4312-9270-40c6f62b363b",
   "metadata": {},
   "outputs": [],
   "source": [
    "heights = Float64[]\n",
    "for count in 1:79\n",
    "    push!(heights, rand(40:90))\n",
    "end\n",
    "\n",
    "\n",
    "# TRUE PARAMS y = m*x + b\n",
    "m = 2\n",
    "b = 10\n",
    "\n",
    "\n",
    "\n",
    "skills = Float64[]\n",
    "\n",
    "for height in heights\n",
    "    skill = m * height + b + randn() * 7.0\n",
    "    push!(skills, skill)\n",
    "end"
   ]
  },
  {
   "cell_type": "markdown",
   "id": "28492695-db8d-4c1f-9faf-5605fa44f202",
   "metadata": {},
   "source": [
    "Just for fun, I'll add myself to this dataset. I'm 72 inches tall, and extremely bad at basketball lol"
   ]
  },
  {
   "cell_type": "code",
   "execution_count": 50,
   "id": "26e0bf5a-c54c-42b7-bdb2-4e1262029cfb",
   "metadata": {},
   "outputs": [],
   "source": [
    "push!(heights, 72);\n",
    "push!(skills, 75);"
   ]
  },
  {
   "cell_type": "code",
   "execution_count": 51,
   "id": "39f6b036-0eda-46b5-81a9-70f90869c959",
   "metadata": {},
   "outputs": [
    {
     "data": {
      "image/svg+xml": [
       "<?xml version=\"1.0\" encoding=\"utf-8\"?>\n",
       "<svg xmlns=\"http://www.w3.org/2000/svg\" xmlns:xlink=\"http://www.w3.org/1999/xlink\" width=\"600\" height=\"400\" viewBox=\"0 0 2400 1600\">\n",
       "<defs>\n",
       "  <clipPath id=\"clip810\">\n",
       "    <rect x=\"0\" y=\"0\" width=\"2400\" height=\"1600\"/>\n",
       "  </clipPath>\n",
       "</defs>\n",
       "<path clip-path=\"url(#clip810)\" d=\"M0 1600 L2400 1600 L2400 0 L0 0  Z\" fill=\"#ffffff\" fill-rule=\"evenodd\" fill-opacity=\"1\"/>\n",
       "<defs>\n",
       "  <clipPath id=\"clip811\">\n",
       "    <rect x=\"480\" y=\"0\" width=\"1681\" height=\"1600\"/>\n",
       "  </clipPath>\n",
       "</defs>\n",
       "<path clip-path=\"url(#clip810)\" d=\"M232.389 1423.18 L2352.76 1423.18 L2352.76 47.2441 L232.389 47.2441  Z\" fill=\"#ffffff\" fill-rule=\"evenodd\" fill-opacity=\"1\"/>\n",
       "<defs>\n",
       "  <clipPath id=\"clip812\">\n",
       "    <rect x=\"232\" y=\"47\" width=\"2121\" height=\"1377\"/>\n",
       "  </clipPath>\n",
       "</defs>\n",
       "<polyline clip-path=\"url(#clip812)\" style=\"stroke:#000000; stroke-linecap:round; stroke-linejoin:round; stroke-width:2; stroke-opacity:0.1; fill:none\" points=\"292.4,1423.18 292.4,47.2441 \"/>\n",
       "<polyline clip-path=\"url(#clip812)\" style=\"stroke:#000000; stroke-linecap:round; stroke-linejoin:round; stroke-width:2; stroke-opacity:0.1; fill:none\" points=\"692.469,1423.18 692.469,47.2441 \"/>\n",
       "<polyline clip-path=\"url(#clip812)\" style=\"stroke:#000000; stroke-linecap:round; stroke-linejoin:round; stroke-width:2; stroke-opacity:0.1; fill:none\" points=\"1092.54,1423.18 1092.54,47.2441 \"/>\n",
       "<polyline clip-path=\"url(#clip812)\" style=\"stroke:#000000; stroke-linecap:round; stroke-linejoin:round; stroke-width:2; stroke-opacity:0.1; fill:none\" points=\"1492.61,1423.18 1492.61,47.2441 \"/>\n",
       "<polyline clip-path=\"url(#clip812)\" style=\"stroke:#000000; stroke-linecap:round; stroke-linejoin:round; stroke-width:2; stroke-opacity:0.1; fill:none\" points=\"1892.68,1423.18 1892.68,47.2441 \"/>\n",
       "<polyline clip-path=\"url(#clip812)\" style=\"stroke:#000000; stroke-linecap:round; stroke-linejoin:round; stroke-width:2; stroke-opacity:0.1; fill:none\" points=\"2292.75,1423.18 2292.75,47.2441 \"/>\n",
       "<polyline clip-path=\"url(#clip810)\" style=\"stroke:#000000; stroke-linecap:round; stroke-linejoin:round; stroke-width:4; stroke-opacity:1; fill:none\" points=\"232.389,1423.18 2352.76,1423.18 \"/>\n",
       "<polyline clip-path=\"url(#clip810)\" style=\"stroke:#000000; stroke-linecap:round; stroke-linejoin:round; stroke-width:4; stroke-opacity:1; fill:none\" points=\"292.4,1423.18 292.4,1404.28 \"/>\n",
       "<polyline clip-path=\"url(#clip810)\" style=\"stroke:#000000; stroke-linecap:round; stroke-linejoin:round; stroke-width:4; stroke-opacity:1; fill:none\" points=\"692.469,1423.18 692.469,1404.28 \"/>\n",
       "<polyline clip-path=\"url(#clip810)\" style=\"stroke:#000000; stroke-linecap:round; stroke-linejoin:round; stroke-width:4; stroke-opacity:1; fill:none\" points=\"1092.54,1423.18 1092.54,1404.28 \"/>\n",
       "<polyline clip-path=\"url(#clip810)\" style=\"stroke:#000000; stroke-linecap:round; stroke-linejoin:round; stroke-width:4; stroke-opacity:1; fill:none\" points=\"1492.61,1423.18 1492.61,1404.28 \"/>\n",
       "<polyline clip-path=\"url(#clip810)\" style=\"stroke:#000000; stroke-linecap:round; stroke-linejoin:round; stroke-width:4; stroke-opacity:1; fill:none\" points=\"1892.68,1423.18 1892.68,1404.28 \"/>\n",
       "<polyline clip-path=\"url(#clip810)\" style=\"stroke:#000000; stroke-linecap:round; stroke-linejoin:round; stroke-width:4; stroke-opacity:1; fill:none\" points=\"2292.75,1423.18 2292.75,1404.28 \"/>\n",
       "<path clip-path=\"url(#clip810)\" d=\"M280.571 1455.09 L268.766 1473.54 L280.571 1473.54 L280.571 1455.09 M279.344 1451.02 L285.224 1451.02 L285.224 1473.54 L290.154 1473.54 L290.154 1477.43 L285.224 1477.43 L285.224 1485.58 L280.571 1485.58 L280.571 1477.43 L264.969 1477.43 L264.969 1472.92 L279.344 1451.02 Z\" fill=\"#000000\" fill-rule=\"nonzero\" fill-opacity=\"1\" /><path clip-path=\"url(#clip810)\" d=\"M307.886 1454.1 Q304.275 1454.1 302.446 1457.66 Q300.64 1461.2 300.64 1468.33 Q300.64 1475.44 302.446 1479.01 Q304.275 1482.55 307.886 1482.55 Q311.52 1482.55 313.326 1479.01 Q315.154 1475.44 315.154 1468.33 Q315.154 1461.2 313.326 1457.66 Q311.52 1454.1 307.886 1454.1 M307.886 1450.39 Q313.696 1450.39 316.751 1455 Q319.83 1459.58 319.83 1468.33 Q319.83 1477.06 316.751 1481.67 Q313.696 1486.25 307.886 1486.25 Q302.076 1486.25 298.997 1481.67 Q295.941 1477.06 295.941 1468.33 Q295.941 1459.58 298.997 1455 Q302.076 1450.39 307.886 1450.39 Z\" fill=\"#000000\" fill-rule=\"nonzero\" fill-opacity=\"1\" /><path clip-path=\"url(#clip810)\" d=\"M667.168 1451.02 L685.524 1451.02 L685.524 1454.96 L671.45 1454.96 L671.45 1463.43 Q672.469 1463.08 673.488 1462.92 Q674.506 1462.73 675.525 1462.73 Q681.312 1462.73 684.691 1465.9 Q688.071 1469.08 688.071 1474.49 Q688.071 1480.07 684.599 1483.17 Q681.126 1486.25 674.807 1486.25 Q672.631 1486.25 670.363 1485.88 Q668.117 1485.51 665.71 1484.77 L665.71 1480.07 Q667.793 1481.2 670.015 1481.76 Q672.238 1482.32 674.714 1482.32 Q678.719 1482.32 681.057 1480.21 Q683.395 1478.1 683.395 1474.49 Q683.395 1470.88 681.057 1468.77 Q678.719 1466.67 674.714 1466.67 Q672.839 1466.67 670.964 1467.08 Q669.113 1467.5 667.168 1468.38 L667.168 1451.02 Z\" fill=\"#000000\" fill-rule=\"nonzero\" fill-opacity=\"1\" /><path clip-path=\"url(#clip810)\" d=\"M707.284 1454.1 Q703.673 1454.1 701.844 1457.66 Q700.038 1461.2 700.038 1468.33 Q700.038 1475.44 701.844 1479.01 Q703.673 1482.55 707.284 1482.55 Q710.918 1482.55 712.723 1479.01 Q714.552 1475.44 714.552 1468.33 Q714.552 1461.2 712.723 1457.66 Q710.918 1454.1 707.284 1454.1 M707.284 1450.39 Q713.094 1450.39 716.149 1455 Q719.228 1459.58 719.228 1468.33 Q719.228 1477.06 716.149 1481.67 Q713.094 1486.25 707.284 1486.25 Q701.473 1486.25 698.395 1481.67 Q695.339 1477.06 695.339 1468.33 Q695.339 1459.58 698.395 1455 Q701.473 1450.39 707.284 1450.39 Z\" fill=\"#000000\" fill-rule=\"nonzero\" fill-opacity=\"1\" /><path clip-path=\"url(#clip810)\" d=\"M1077.94 1466.44 Q1074.8 1466.44 1072.94 1468.59 Q1071.11 1470.74 1071.11 1474.49 Q1071.11 1478.22 1072.94 1480.39 Q1074.8 1482.55 1077.94 1482.55 Q1081.09 1482.55 1082.92 1480.39 Q1084.77 1478.22 1084.77 1474.49 Q1084.77 1470.74 1082.92 1468.59 Q1081.09 1466.44 1077.94 1466.44 M1087.23 1451.78 L1087.23 1456.04 Q1085.47 1455.21 1083.66 1454.77 Q1081.88 1454.33 1080.12 1454.33 Q1075.49 1454.33 1073.04 1457.45 Q1070.61 1460.58 1070.26 1466.9 Q1071.62 1464.89 1073.68 1463.82 Q1075.74 1462.73 1078.22 1462.73 Q1083.43 1462.73 1086.44 1465.9 Q1089.47 1469.05 1089.47 1474.49 Q1089.47 1479.82 1086.32 1483.03 Q1083.17 1486.25 1077.94 1486.25 Q1071.95 1486.25 1068.78 1481.67 Q1065.61 1477.06 1065.61 1468.33 Q1065.61 1460.14 1069.49 1455.28 Q1073.38 1450.39 1079.93 1450.39 Q1081.69 1450.39 1083.48 1450.74 Q1085.28 1451.09 1087.23 1451.78 Z\" fill=\"#000000\" fill-rule=\"nonzero\" fill-opacity=\"1\" /><path clip-path=\"url(#clip810)\" d=\"M1107.53 1454.1 Q1103.92 1454.1 1102.09 1457.66 Q1100.28 1461.2 1100.28 1468.33 Q1100.28 1475.44 1102.09 1479.01 Q1103.92 1482.55 1107.53 1482.55 Q1111.16 1482.55 1112.97 1479.01 Q1114.79 1475.44 1114.79 1468.33 Q1114.79 1461.2 1112.97 1457.66 Q1111.16 1454.1 1107.53 1454.1 M1107.53 1450.39 Q1113.34 1450.39 1116.39 1455 Q1119.47 1459.58 1119.47 1468.33 Q1119.47 1477.06 1116.39 1481.67 Q1113.34 1486.25 1107.53 1486.25 Q1101.72 1486.25 1098.64 1481.67 Q1095.58 1477.06 1095.58 1468.33 Q1095.58 1459.58 1098.64 1455 Q1101.72 1450.39 1107.53 1450.39 Z\" fill=\"#000000\" fill-rule=\"nonzero\" fill-opacity=\"1\" /><path clip-path=\"url(#clip810)\" d=\"M1465.96 1451.02 L1488.19 1451.02 L1488.19 1453.01 L1475.64 1485.58 L1470.76 1485.58 L1482.56 1454.96 L1465.96 1454.96 L1465.96 1451.02 Z\" fill=\"#000000\" fill-rule=\"nonzero\" fill-opacity=\"1\" /><path clip-path=\"url(#clip810)\" d=\"M1507.31 1454.1 Q1503.7 1454.1 1501.87 1457.66 Q1500.06 1461.2 1500.06 1468.33 Q1500.06 1475.44 1501.87 1479.01 Q1503.7 1482.55 1507.31 1482.55 Q1510.94 1482.55 1512.75 1479.01 Q1514.57 1475.44 1514.57 1468.33 Q1514.57 1461.2 1512.75 1457.66 Q1510.94 1454.1 1507.31 1454.1 M1507.31 1450.39 Q1513.12 1450.39 1516.17 1455 Q1519.25 1459.58 1519.25 1468.33 Q1519.25 1477.06 1516.17 1481.67 Q1513.12 1486.25 1507.31 1486.25 Q1501.5 1486.25 1498.42 1481.67 Q1495.36 1477.06 1495.36 1468.33 Q1495.36 1459.58 1498.42 1455 Q1501.5 1450.39 1507.31 1450.39 Z\" fill=\"#000000\" fill-rule=\"nonzero\" fill-opacity=\"1\" /><path clip-path=\"url(#clip810)\" d=\"M1877.55 1469.17 Q1874.22 1469.17 1872.29 1470.95 Q1870.4 1472.73 1870.4 1475.86 Q1870.4 1478.98 1872.29 1480.77 Q1874.22 1482.55 1877.55 1482.55 Q1880.88 1482.55 1882.8 1480.77 Q1884.73 1478.96 1884.73 1475.86 Q1884.73 1472.73 1882.8 1470.95 Q1880.91 1469.17 1877.55 1469.17 M1872.87 1467.18 Q1869.86 1466.44 1868.17 1464.38 Q1866.51 1462.32 1866.51 1459.35 Q1866.51 1455.21 1869.45 1452.8 Q1872.41 1450.39 1877.55 1450.39 Q1882.71 1450.39 1885.65 1452.8 Q1888.59 1455.21 1888.59 1459.35 Q1888.59 1462.32 1886.9 1464.38 Q1885.23 1466.44 1882.25 1467.18 Q1885.63 1467.96 1887.5 1470.26 Q1889.4 1472.55 1889.4 1475.86 Q1889.4 1480.88 1886.32 1483.57 Q1883.27 1486.25 1877.55 1486.25 Q1871.83 1486.25 1868.75 1483.57 Q1865.7 1480.88 1865.7 1475.86 Q1865.7 1472.55 1867.6 1470.26 Q1869.49 1467.96 1872.87 1467.18 M1871.16 1459.79 Q1871.16 1462.48 1872.83 1463.98 Q1874.52 1465.49 1877.55 1465.49 Q1880.56 1465.49 1882.25 1463.98 Q1883.96 1462.48 1883.96 1459.79 Q1883.96 1457.11 1882.25 1455.6 Q1880.56 1454.1 1877.55 1454.1 Q1874.52 1454.1 1872.83 1455.6 Q1871.16 1457.11 1871.16 1459.79 Z\" fill=\"#000000\" fill-rule=\"nonzero\" fill-opacity=\"1\" /><path clip-path=\"url(#clip810)\" d=\"M1907.71 1454.1 Q1904.1 1454.1 1902.27 1457.66 Q1900.47 1461.2 1900.47 1468.33 Q1900.47 1475.44 1902.27 1479.01 Q1904.1 1482.55 1907.71 1482.55 Q1911.35 1482.55 1913.15 1479.01 Q1914.98 1475.44 1914.98 1468.33 Q1914.98 1461.2 1913.15 1457.66 Q1911.35 1454.1 1907.71 1454.1 M1907.71 1450.39 Q1913.52 1450.39 1916.58 1455 Q1919.66 1459.58 1919.66 1468.33 Q1919.66 1477.06 1916.58 1481.67 Q1913.52 1486.25 1907.71 1486.25 Q1901.9 1486.25 1898.82 1481.67 Q1895.77 1477.06 1895.77 1468.33 Q1895.77 1459.58 1898.82 1455 Q1901.9 1450.39 1907.71 1450.39 Z\" fill=\"#000000\" fill-rule=\"nonzero\" fill-opacity=\"1\" /><path clip-path=\"url(#clip810)\" d=\"M2267.87 1484.86 L2267.87 1480.6 Q2269.63 1481.44 2271.44 1481.88 Q2273.24 1482.32 2274.98 1482.32 Q2279.61 1482.32 2282.04 1479.21 Q2284.49 1476.09 2284.84 1469.75 Q2283.5 1471.74 2281.44 1472.8 Q2279.38 1473.87 2276.88 1473.87 Q2271.69 1473.87 2268.66 1470.74 Q2265.65 1467.59 2265.65 1462.15 Q2265.65 1456.83 2268.8 1453.61 Q2271.95 1450.39 2277.18 1450.39 Q2283.17 1450.39 2286.32 1455 Q2289.49 1459.58 2289.49 1468.33 Q2289.49 1476.51 2285.6 1481.39 Q2281.74 1486.25 2275.19 1486.25 Q2273.43 1486.25 2271.62 1485.9 Q2269.82 1485.56 2267.87 1484.86 M2277.18 1470.21 Q2280.33 1470.21 2282.16 1468.06 Q2284.01 1465.9 2284.01 1462.15 Q2284.01 1458.43 2282.16 1456.27 Q2280.33 1454.1 2277.18 1454.1 Q2274.03 1454.1 2272.18 1456.27 Q2270.35 1458.43 2270.35 1462.15 Q2270.35 1465.9 2272.18 1468.06 Q2274.03 1470.21 2277.18 1470.21 Z\" fill=\"#000000\" fill-rule=\"nonzero\" fill-opacity=\"1\" /><path clip-path=\"url(#clip810)\" d=\"M2307.9 1454.1 Q2304.28 1454.1 2302.46 1457.66 Q2300.65 1461.2 2300.65 1468.33 Q2300.65 1475.44 2302.46 1479.01 Q2304.28 1482.55 2307.9 1482.55 Q2311.53 1482.55 2313.34 1479.01 Q2315.16 1475.44 2315.16 1468.33 Q2315.16 1461.2 2313.34 1457.66 Q2311.53 1454.1 2307.9 1454.1 M2307.9 1450.39 Q2313.71 1450.39 2316.76 1455 Q2319.84 1459.58 2319.84 1468.33 Q2319.84 1477.06 2316.76 1481.67 Q2313.71 1486.25 2307.9 1486.25 Q2302.09 1486.25 2299.01 1481.67 Q2295.95 1477.06 2295.95 1468.33 Q2295.95 1459.58 2299.01 1455 Q2302.09 1450.39 2307.9 1450.39 Z\" fill=\"#000000\" fill-rule=\"nonzero\" fill-opacity=\"1\" /><path clip-path=\"url(#clip810)\" d=\"M1049.72 1520.52 L1056.15 1520.52 L1056.15 1540 L1079.51 1540 L1079.51 1520.52 L1085.94 1520.52 L1085.94 1568.04 L1079.51 1568.04 L1079.51 1545.41 L1056.15 1545.41 L1056.15 1568.04 L1049.72 1568.04 L1049.72 1520.52 Z\" fill=\"#000000\" fill-rule=\"nonzero\" fill-opacity=\"1\" /><path clip-path=\"url(#clip810)\" d=\"M1128.97 1548.76 L1128.97 1551.62 L1102.05 1551.62 Q1102.43 1557.67 1105.68 1560.85 Q1108.95 1564 1114.78 1564 Q1118.15 1564 1121.3 1563.17 Q1124.49 1562.35 1127.61 1560.69 L1127.61 1566.23 Q1124.45 1567.57 1121.14 1568.27 Q1117.83 1568.97 1114.43 1568.97 Q1105.9 1568.97 1100.9 1564 Q1095.94 1559.04 1095.94 1550.57 Q1095.94 1541.82 1100.65 1536.69 Q1105.39 1531.54 1113.41 1531.54 Q1120.6 1531.54 1124.77 1536.18 Q1128.97 1540.8 1128.97 1548.76 M1123.12 1547.04 Q1123.05 1542.23 1120.41 1539.37 Q1117.8 1536.5 1113.47 1536.5 Q1108.57 1536.5 1105.61 1539.27 Q1102.68 1542.04 1102.24 1547.07 L1123.12 1547.04 Z\" fill=\"#000000\" fill-rule=\"nonzero\" fill-opacity=\"1\" /><path clip-path=\"url(#clip810)\" d=\"M1138.59 1532.4 L1144.44 1532.4 L1144.44 1568.04 L1138.59 1568.04 L1138.59 1532.4 M1138.59 1518.52 L1144.44 1518.52 L1144.44 1525.93 L1138.59 1525.93 L1138.59 1518.52 Z\" fill=\"#000000\" fill-rule=\"nonzero\" fill-opacity=\"1\" /><path clip-path=\"url(#clip810)\" d=\"M1180.15 1549.81 Q1180.15 1543.44 1177.51 1539.94 Q1174.9 1536.44 1170.16 1536.44 Q1165.45 1536.44 1162.81 1539.94 Q1160.2 1543.44 1160.2 1549.81 Q1160.2 1556.14 1162.81 1559.64 Q1165.45 1563.14 1170.16 1563.14 Q1174.9 1563.14 1177.51 1559.64 Q1180.15 1556.14 1180.15 1549.81 M1186.01 1563.62 Q1186.01 1572.72 1181.97 1577.15 Q1177.93 1581.6 1169.59 1581.6 Q1166.5 1581.6 1163.76 1581.13 Q1161.03 1580.68 1158.45 1579.72 L1158.45 1574.03 Q1161.03 1575.43 1163.54 1576.1 Q1166.05 1576.76 1168.66 1576.76 Q1174.43 1576.76 1177.29 1573.74 Q1180.15 1570.75 1180.15 1564.67 L1180.15 1561.77 Q1178.34 1564.92 1175.51 1566.48 Q1172.67 1568.04 1168.73 1568.04 Q1162.17 1568.04 1158.16 1563.05 Q1154.15 1558.05 1154.15 1549.81 Q1154.15 1541.53 1158.16 1536.53 Q1162.17 1531.54 1168.73 1531.54 Q1172.67 1531.54 1175.51 1533.1 Q1178.34 1534.66 1180.15 1537.81 L1180.15 1532.4 L1186.01 1532.4 L1186.01 1563.62 Z\" fill=\"#000000\" fill-rule=\"nonzero\" fill-opacity=\"1\" /><path clip-path=\"url(#clip810)\" d=\"M1227.71 1546.53 L1227.71 1568.04 L1221.85 1568.04 L1221.85 1546.72 Q1221.85 1541.66 1219.88 1539.14 Q1217.9 1536.63 1213.96 1536.63 Q1209.21 1536.63 1206.48 1539.65 Q1203.74 1542.68 1203.74 1547.9 L1203.74 1568.04 L1197.85 1568.04 L1197.85 1518.52 L1203.74 1518.52 L1203.74 1537.93 Q1205.84 1534.72 1208.67 1533.13 Q1211.54 1531.54 1215.26 1531.54 Q1221.4 1531.54 1224.56 1535.36 Q1227.71 1539.14 1227.71 1546.53 Z\" fill=\"#000000\" fill-rule=\"nonzero\" fill-opacity=\"1\" /><path clip-path=\"url(#clip810)\" d=\"M1245.18 1522.27 L1245.18 1532.4 L1257.24 1532.4 L1257.24 1536.95 L1245.18 1536.95 L1245.18 1556.3 Q1245.18 1560.66 1246.36 1561.9 Q1247.57 1563.14 1251.23 1563.14 L1257.24 1563.14 L1257.24 1568.04 L1251.23 1568.04 Q1244.45 1568.04 1241.87 1565.53 Q1239.29 1562.98 1239.29 1556.3 L1239.29 1536.95 L1234.99 1536.95 L1234.99 1532.4 L1239.29 1532.4 L1239.29 1522.27 L1245.18 1522.27 Z\" fill=\"#000000\" fill-rule=\"nonzero\" fill-opacity=\"1\" /><path clip-path=\"url(#clip810)\" d=\"M1299.73 1518.58 Q1295.47 1525.9 1293.4 1533.06 Q1291.33 1540.23 1291.33 1547.58 Q1291.33 1554.93 1293.4 1562.16 Q1295.5 1569.35 1299.73 1576.64 L1294.64 1576.64 Q1289.87 1569.16 1287.48 1561.93 Q1285.12 1554.71 1285.12 1547.58 Q1285.12 1540.48 1287.48 1533.29 Q1289.84 1526.09 1294.64 1518.58 L1299.73 1518.58 Z\" fill=\"#000000\" fill-rule=\"nonzero\" fill-opacity=\"1\" /><path clip-path=\"url(#clip810)\" d=\"M1311.1 1532.4 L1316.95 1532.4 L1316.95 1568.04 L1311.1 1568.04 L1311.1 1532.4 M1311.1 1518.52 L1316.95 1518.52 L1316.95 1525.93 L1311.1 1525.93 L1311.1 1518.52 Z\" fill=\"#000000\" fill-rule=\"nonzero\" fill-opacity=\"1\" /><path clip-path=\"url(#clip810)\" d=\"M1358.84 1546.53 L1358.84 1568.04 L1352.98 1568.04 L1352.98 1546.72 Q1352.98 1541.66 1351.01 1539.14 Q1349.04 1536.63 1345.09 1536.63 Q1340.35 1536.63 1337.61 1539.65 Q1334.87 1542.68 1334.87 1547.9 L1334.87 1568.04 L1328.98 1568.04 L1328.98 1532.4 L1334.87 1532.4 L1334.87 1537.93 Q1336.97 1534.72 1339.81 1533.13 Q1342.67 1531.54 1346.39 1531.54 Q1352.54 1531.54 1355.69 1535.36 Q1358.84 1539.14 1358.84 1546.53 Z\" fill=\"#000000\" fill-rule=\"nonzero\" fill-opacity=\"1\" /><path clip-path=\"url(#clip810)\" d=\"M1396.17 1533.76 L1396.17 1539.24 Q1393.69 1537.87 1391.18 1537.2 Q1388.69 1536.5 1386.15 1536.5 Q1380.45 1536.5 1377.3 1540.13 Q1374.15 1543.73 1374.15 1550.25 Q1374.15 1556.78 1377.3 1560.4 Q1380.45 1564 1386.15 1564 Q1388.69 1564 1391.18 1563.33 Q1393.69 1562.63 1396.17 1561.26 L1396.17 1566.68 Q1393.72 1567.82 1391.08 1568.39 Q1388.47 1568.97 1385.51 1568.97 Q1377.46 1568.97 1372.72 1563.91 Q1367.97 1558.85 1367.97 1550.25 Q1367.97 1541.53 1372.75 1536.53 Q1377.55 1531.54 1385.89 1531.54 Q1388.6 1531.54 1391.18 1532.11 Q1393.76 1532.65 1396.17 1533.76 Z\" fill=\"#000000\" fill-rule=\"nonzero\" fill-opacity=\"1\" /><path clip-path=\"url(#clip810)\" d=\"M1435.99 1546.53 L1435.99 1568.04 L1430.14 1568.04 L1430.14 1546.72 Q1430.14 1541.66 1428.16 1539.14 Q1426.19 1536.63 1422.24 1536.63 Q1417.5 1536.63 1414.76 1539.65 Q1412.03 1542.68 1412.03 1547.9 L1412.03 1568.04 L1406.14 1568.04 L1406.14 1518.52 L1412.03 1518.52 L1412.03 1537.93 Q1414.13 1534.72 1416.96 1533.13 Q1419.82 1531.54 1423.55 1531.54 Q1429.69 1531.54 1432.84 1535.36 Q1435.99 1539.14 1435.99 1546.53 Z\" fill=\"#000000\" fill-rule=\"nonzero\" fill-opacity=\"1\" /><path clip-path=\"url(#clip810)\" d=\"M1478.16 1548.76 L1478.16 1551.62 L1451.24 1551.62 Q1451.62 1557.67 1454.87 1560.85 Q1458.14 1564 1463.97 1564 Q1467.34 1564 1470.49 1563.17 Q1473.68 1562.35 1476.8 1560.69 L1476.8 1566.23 Q1473.65 1567.57 1470.33 1568.27 Q1467.02 1568.97 1463.62 1568.97 Q1455.09 1568.97 1450.09 1564 Q1445.13 1559.04 1445.13 1550.57 Q1445.13 1541.82 1449.84 1536.69 Q1454.58 1531.54 1462.6 1531.54 Q1469.79 1531.54 1473.96 1536.18 Q1478.16 1540.8 1478.16 1548.76 M1472.31 1547.04 Q1472.24 1542.23 1469.6 1539.37 Q1466.99 1536.5 1462.66 1536.5 Q1457.76 1536.5 1454.8 1539.27 Q1451.87 1542.04 1451.43 1547.07 L1472.31 1547.04 Z\" fill=\"#000000\" fill-rule=\"nonzero\" fill-opacity=\"1\" /><path clip-path=\"url(#clip810)\" d=\"M1510.5 1533.45 L1510.5 1538.98 Q1508.02 1537.71 1505.35 1537.07 Q1502.67 1536.44 1499.81 1536.44 Q1495.45 1536.44 1493.25 1537.77 Q1491.09 1539.11 1491.09 1541.79 Q1491.09 1543.82 1492.65 1545 Q1494.21 1546.15 1498.92 1547.2 L1500.92 1547.64 Q1507.16 1548.98 1509.77 1551.43 Q1512.41 1553.85 1512.41 1558.21 Q1512.41 1563.17 1508.47 1566.07 Q1504.55 1568.97 1497.68 1568.97 Q1494.81 1568.97 1491.69 1568.39 Q1488.6 1567.85 1485.17 1566.74 L1485.17 1560.69 Q1488.41 1562.38 1491.56 1563.24 Q1494.72 1564.07 1497.8 1564.07 Q1501.94 1564.07 1504.17 1562.66 Q1506.4 1561.23 1506.4 1558.65 Q1506.4 1556.27 1504.77 1554.99 Q1503.18 1553.72 1497.74 1552.54 L1495.7 1552.07 Q1490.26 1550.92 1487.84 1548.56 Q1485.42 1546.18 1485.42 1542.04 Q1485.42 1537.01 1488.99 1534.27 Q1492.55 1531.54 1499.11 1531.54 Q1502.35 1531.54 1505.22 1532.01 Q1508.08 1532.49 1510.5 1533.45 Z\" fill=\"#000000\" fill-rule=\"nonzero\" fill-opacity=\"1\" /><path clip-path=\"url(#clip810)\" d=\"M1520.82 1518.58 L1525.91 1518.58 Q1530.68 1526.09 1533.04 1533.29 Q1535.42 1540.48 1535.42 1547.58 Q1535.42 1554.71 1533.04 1561.93 Q1530.68 1569.16 1525.91 1576.64 L1520.82 1576.64 Q1525.05 1569.35 1527.12 1562.16 Q1529.22 1554.93 1529.22 1547.58 Q1529.22 1540.23 1527.12 1533.06 Q1525.05 1525.9 1520.82 1518.58 Z\" fill=\"#000000\" fill-rule=\"nonzero\" fill-opacity=\"1\" /><polyline clip-path=\"url(#clip812)\" style=\"stroke:#000000; stroke-linecap:round; stroke-linejoin:round; stroke-width:2; stroke-opacity:0.1; fill:none\" points=\"232.389,1384.24 2352.76,1384.24 \"/>\n",
       "<polyline clip-path=\"url(#clip812)\" style=\"stroke:#000000; stroke-linecap:round; stroke-linejoin:round; stroke-width:2; stroke-opacity:0.1; fill:none\" points=\"232.389,1114.42 2352.76,1114.42 \"/>\n",
       "<polyline clip-path=\"url(#clip812)\" style=\"stroke:#000000; stroke-linecap:round; stroke-linejoin:round; stroke-width:2; stroke-opacity:0.1; fill:none\" points=\"232.389,844.598 2352.76,844.598 \"/>\n",
       "<polyline clip-path=\"url(#clip812)\" style=\"stroke:#000000; stroke-linecap:round; stroke-linejoin:round; stroke-width:2; stroke-opacity:0.1; fill:none\" points=\"232.389,574.778 2352.76,574.778 \"/>\n",
       "<polyline clip-path=\"url(#clip812)\" style=\"stroke:#000000; stroke-linecap:round; stroke-linejoin:round; stroke-width:2; stroke-opacity:0.1; fill:none\" points=\"232.389,304.958 2352.76,304.958 \"/>\n",
       "<polyline clip-path=\"url(#clip810)\" style=\"stroke:#000000; stroke-linecap:round; stroke-linejoin:round; stroke-width:4; stroke-opacity:1; fill:none\" points=\"232.389,1423.18 232.389,47.2441 \"/>\n",
       "<polyline clip-path=\"url(#clip810)\" style=\"stroke:#000000; stroke-linecap:round; stroke-linejoin:round; stroke-width:4; stroke-opacity:1; fill:none\" points=\"232.389,1384.24 251.287,1384.24 \"/>\n",
       "<polyline clip-path=\"url(#clip810)\" style=\"stroke:#000000; stroke-linecap:round; stroke-linejoin:round; stroke-width:4; stroke-opacity:1; fill:none\" points=\"232.389,1114.42 251.287,1114.42 \"/>\n",
       "<polyline clip-path=\"url(#clip810)\" style=\"stroke:#000000; stroke-linecap:round; stroke-linejoin:round; stroke-width:4; stroke-opacity:1; fill:none\" points=\"232.389,844.598 251.287,844.598 \"/>\n",
       "<polyline clip-path=\"url(#clip810)\" style=\"stroke:#000000; stroke-linecap:round; stroke-linejoin:round; stroke-width:4; stroke-opacity:1; fill:none\" points=\"232.389,574.778 251.287,574.778 \"/>\n",
       "<polyline clip-path=\"url(#clip810)\" style=\"stroke:#000000; stroke-linecap:round; stroke-linejoin:round; stroke-width:4; stroke-opacity:1; fill:none\" points=\"232.389,304.958 251.287,304.958 \"/>\n",
       "<path clip-path=\"url(#clip810)\" d=\"M144.098 1366.96 L166.32 1366.96 L166.32 1368.95 L153.774 1401.52 L148.89 1401.52 L160.695 1370.89 L144.098 1370.89 L144.098 1366.96 Z\" fill=\"#000000\" fill-rule=\"nonzero\" fill-opacity=\"1\" /><path clip-path=\"url(#clip810)\" d=\"M175.487 1366.96 L193.843 1366.96 L193.843 1370.89 L179.769 1370.89 L179.769 1379.37 Q180.788 1379.02 181.806 1378.86 Q182.825 1378.67 183.843 1378.67 Q189.63 1378.67 193.01 1381.84 Q196.389 1385.01 196.389 1390.43 Q196.389 1396.01 192.917 1399.11 Q189.445 1402.19 183.126 1402.19 Q180.95 1402.19 178.681 1401.82 Q176.436 1401.45 174.028 1400.71 L174.028 1396.01 Q176.112 1397.14 178.334 1397.7 Q180.556 1398.25 183.033 1398.25 Q187.038 1398.25 189.375 1396.15 Q191.713 1394.04 191.713 1390.43 Q191.713 1386.82 189.375 1384.71 Q187.038 1382.61 183.033 1382.61 Q181.158 1382.61 179.283 1383.02 Q177.431 1383.44 175.487 1384.32 L175.487 1366.96 Z\" fill=\"#000000\" fill-rule=\"nonzero\" fill-opacity=\"1\" /><path clip-path=\"url(#clip810)\" d=\"M114.931 1127.76 L122.57 1127.76 L122.57 1101.4 L114.26 1103.06 L114.26 1098.8 L122.524 1097.14 L127.2 1097.14 L127.2 1127.76 L134.839 1127.76 L134.839 1131.7 L114.931 1131.7 L114.931 1127.76 Z\" fill=\"#000000\" fill-rule=\"nonzero\" fill-opacity=\"1\" /><path clip-path=\"url(#clip810)\" d=\"M154.283 1100.22 Q150.672 1100.22 148.843 1103.78 Q147.038 1107.32 147.038 1114.45 Q147.038 1121.56 148.843 1125.12 Q150.672 1128.67 154.283 1128.67 Q157.917 1128.67 159.723 1125.12 Q161.552 1121.56 161.552 1114.45 Q161.552 1107.32 159.723 1103.78 Q157.917 1100.22 154.283 1100.22 M154.283 1096.51 Q160.093 1096.51 163.149 1101.12 Q166.227 1105.7 166.227 1114.45 Q166.227 1123.18 163.149 1127.79 Q160.093 1132.37 154.283 1132.37 Q148.473 1132.37 145.394 1127.79 Q142.339 1123.18 142.339 1114.45 Q142.339 1105.7 145.394 1101.12 Q148.473 1096.51 154.283 1096.51 Z\" fill=\"#000000\" fill-rule=\"nonzero\" fill-opacity=\"1\" /><path clip-path=\"url(#clip810)\" d=\"M184.445 1100.22 Q180.834 1100.22 179.005 1103.78 Q177.2 1107.32 177.2 1114.45 Q177.2 1121.56 179.005 1125.12 Q180.834 1128.67 184.445 1128.67 Q188.079 1128.67 189.885 1125.12 Q191.713 1121.56 191.713 1114.45 Q191.713 1107.32 189.885 1103.78 Q188.079 1100.22 184.445 1100.22 M184.445 1096.51 Q190.255 1096.51 193.311 1101.12 Q196.389 1105.7 196.389 1114.45 Q196.389 1123.18 193.311 1127.79 Q190.255 1132.37 184.445 1132.37 Q178.635 1132.37 175.556 1127.79 Q172.501 1123.18 172.501 1114.45 Q172.501 1105.7 175.556 1101.12 Q178.635 1096.51 184.445 1096.51 Z\" fill=\"#000000\" fill-rule=\"nonzero\" fill-opacity=\"1\" /><path clip-path=\"url(#clip810)\" d=\"M115.927 857.943 L123.566 857.943 L123.566 831.577 L115.256 833.244 L115.256 828.985 L123.519 827.318 L128.195 827.318 L128.195 857.943 L135.834 857.943 L135.834 861.878 L115.927 861.878 L115.927 857.943 Z\" fill=\"#000000\" fill-rule=\"nonzero\" fill-opacity=\"1\" /><path clip-path=\"url(#clip810)\" d=\"M149.306 857.943 L165.626 857.943 L165.626 861.878 L143.681 861.878 L143.681 857.943 Q146.343 855.188 150.927 850.559 Q155.533 845.906 156.714 844.563 Q158.959 842.04 159.839 840.304 Q160.741 838.545 160.741 836.855 Q160.741 834.1 158.797 832.364 Q156.876 830.628 153.774 830.628 Q151.575 830.628 149.121 831.392 Q146.691 832.156 143.913 833.707 L143.913 828.985 Q146.737 827.85 149.191 827.272 Q151.644 826.693 153.681 826.693 Q159.052 826.693 162.246 829.378 Q165.44 832.063 165.44 836.554 Q165.44 838.684 164.63 840.605 Q163.843 842.503 161.737 845.096 Q161.158 845.767 158.056 848.985 Q154.954 852.179 149.306 857.943 Z\" fill=\"#000000\" fill-rule=\"nonzero\" fill-opacity=\"1\" /><path clip-path=\"url(#clip810)\" d=\"M175.487 827.318 L193.843 827.318 L193.843 831.253 L179.769 831.253 L179.769 839.725 Q180.788 839.378 181.806 839.216 Q182.825 839.031 183.843 839.031 Q189.63 839.031 193.01 842.202 Q196.389 845.373 196.389 850.79 Q196.389 856.369 192.917 859.471 Q189.445 862.549 183.126 862.549 Q180.95 862.549 178.681 862.179 Q176.436 861.809 174.028 861.068 L174.028 856.369 Q176.112 857.503 178.334 858.059 Q180.556 858.614 183.033 858.614 Q187.038 858.614 189.375 856.508 Q191.713 854.401 191.713 850.79 Q191.713 847.179 189.375 845.073 Q187.038 842.966 183.033 842.966 Q181.158 842.966 179.283 843.383 Q177.431 843.799 175.487 844.679 L175.487 827.318 Z\" fill=\"#000000\" fill-rule=\"nonzero\" fill-opacity=\"1\" /><path clip-path=\"url(#clip810)\" d=\"M114.931 588.123 L122.57 588.123 L122.57 561.757 L114.26 563.424 L114.26 559.165 L122.524 557.498 L127.2 557.498 L127.2 588.123 L134.839 588.123 L134.839 592.058 L114.931 592.058 L114.931 588.123 Z\" fill=\"#000000\" fill-rule=\"nonzero\" fill-opacity=\"1\" /><path clip-path=\"url(#clip810)\" d=\"M144.329 557.498 L162.686 557.498 L162.686 561.433 L148.612 561.433 L148.612 569.905 Q149.63 569.558 150.649 569.396 Q151.667 569.211 152.686 569.211 Q158.473 569.211 161.852 572.382 Q165.232 575.553 165.232 580.97 Q165.232 586.549 161.76 589.65 Q158.288 592.729 151.968 592.729 Q149.792 592.729 147.524 592.359 Q145.279 591.988 142.871 591.248 L142.871 586.549 Q144.954 587.683 147.177 588.238 Q149.399 588.794 151.876 588.794 Q155.88 588.794 158.218 586.688 Q160.556 584.581 160.556 580.97 Q160.556 577.359 158.218 575.252 Q155.88 573.146 151.876 573.146 Q150.001 573.146 148.126 573.563 Q146.274 573.979 144.329 574.859 L144.329 557.498 Z\" fill=\"#000000\" fill-rule=\"nonzero\" fill-opacity=\"1\" /><path clip-path=\"url(#clip810)\" d=\"M184.445 560.577 Q180.834 560.577 179.005 564.141 Q177.2 567.683 177.2 574.813 Q177.2 581.919 179.005 585.484 Q180.834 589.025 184.445 589.025 Q188.079 589.025 189.885 585.484 Q191.713 581.919 191.713 574.813 Q191.713 567.683 189.885 564.141 Q188.079 560.577 184.445 560.577 M184.445 556.873 Q190.255 556.873 193.311 561.479 Q196.389 566.063 196.389 574.813 Q196.389 583.539 193.311 588.146 Q190.255 592.729 184.445 592.729 Q178.635 592.729 175.556 588.146 Q172.501 583.539 172.501 574.813 Q172.501 566.063 175.556 561.479 Q178.635 556.873 184.445 556.873 Z\" fill=\"#000000\" fill-rule=\"nonzero\" fill-opacity=\"1\" /><path clip-path=\"url(#clip810)\" d=\"M115.927 318.303 L123.566 318.303 L123.566 291.937 L115.256 293.604 L115.256 289.344 L123.519 287.678 L128.195 287.678 L128.195 318.303 L135.834 318.303 L135.834 322.238 L115.927 322.238 L115.927 318.303 Z\" fill=\"#000000\" fill-rule=\"nonzero\" fill-opacity=\"1\" /><path clip-path=\"url(#clip810)\" d=\"M144.098 287.678 L166.32 287.678 L166.32 289.668 L153.774 322.238 L148.89 322.238 L160.695 291.613 L144.098 291.613 L144.098 287.678 Z\" fill=\"#000000\" fill-rule=\"nonzero\" fill-opacity=\"1\" /><path clip-path=\"url(#clip810)\" d=\"M175.487 287.678 L193.843 287.678 L193.843 291.613 L179.769 291.613 L179.769 300.085 Q180.788 299.738 181.806 299.576 Q182.825 299.391 183.843 299.391 Q189.63 299.391 193.01 302.562 Q196.389 305.733 196.389 311.15 Q196.389 316.728 192.917 319.83 Q189.445 322.909 183.126 322.909 Q180.95 322.909 178.681 322.539 Q176.436 322.168 174.028 321.428 L174.028 316.728 Q176.112 317.863 178.334 318.418 Q180.556 318.974 183.033 318.974 Q187.038 318.974 189.375 316.867 Q191.713 314.761 191.713 311.15 Q191.713 307.539 189.375 305.432 Q187.038 303.326 183.033 303.326 Q181.158 303.326 179.283 303.742 Q177.431 304.159 175.487 305.039 L175.487 287.678 Z\" fill=\"#000000\" fill-rule=\"nonzero\" fill-opacity=\"1\" /><path clip-path=\"url(#clip810)\" d=\"M41.3104 986.689 L58.7206 986.689 L58.7206 976.377 Q58.7206 971.189 56.5881 968.706 Q54.4238 966.192 49.9996 966.192 Q45.5436 966.192 43.4429 968.706 Q41.3104 971.189 41.3104 976.377 L41.3104 986.689 M21.7677 986.689 L36.0905 986.689 L36.0905 977.172 Q36.0905 972.462 34.34 970.17 Q32.5576 967.847 28.9291 967.847 Q25.3325 967.847 23.5501 970.17 Q21.7677 972.462 21.7677 977.172 L21.7677 986.689 M16.4842 993.119 L16.4842 976.695 Q16.4842 969.343 19.5397 965.364 Q22.5952 961.386 28.2289 961.386 Q32.5894 961.386 35.1675 963.423 Q37.7456 965.46 38.3822 969.406 Q39.4007 964.664 42.6472 962.054 Q45.8619 959.412 50.6998 959.412 Q57.0655 959.412 60.5348 963.741 Q64.0042 968.07 64.0042 976.058 L64.0042 993.119 L16.4842 993.119 Z\" fill=\"#000000\" fill-rule=\"nonzero\" fill-opacity=\"1\" /><path clip-path=\"url(#clip810)\" d=\"M46.0847 932.453 Q46.0847 939.551 47.7079 942.288 Q49.3312 945.026 53.2461 945.026 Q56.3653 945.026 58.2114 942.989 Q60.0256 940.92 60.0256 937.387 Q60.0256 932.517 56.5881 929.589 Q53.1188 926.629 47.3897 926.629 L46.0847 926.629 L46.0847 932.453 M43.6657 920.772 L64.0042 920.772 L64.0042 926.629 L58.5933 926.629 Q61.8398 928.634 63.3994 931.626 Q64.9272 934.618 64.9272 938.946 Q64.9272 944.421 61.8716 947.667 Q58.7843 950.882 53.6281 950.882 Q47.6125 950.882 44.5569 946.872 Q41.5014 942.829 41.5014 934.841 L41.5014 926.629 L40.9285 926.629 Q36.8862 926.629 34.6901 929.302 Q32.4621 931.944 32.4621 936.75 Q32.4621 939.806 33.1941 942.702 Q33.9262 945.599 35.3903 948.272 L29.9795 948.272 Q28.7381 945.057 28.1334 942.034 Q27.4968 939.01 27.4968 936.145 Q27.4968 928.411 31.5072 924.592 Q35.5176 920.772 43.6657 920.772 Z\" fill=\"#000000\" fill-rule=\"nonzero\" fill-opacity=\"1\" /><path clip-path=\"url(#clip810)\" d=\"M29.4065 885.984 L34.9447 885.984 Q33.6716 888.466 33.035 891.14 Q32.3984 893.814 32.3984 896.678 Q32.3984 901.039 33.7352 903.235 Q35.072 905.399 37.7456 905.399 Q39.7826 905.399 40.9603 903.84 Q42.1061 902.28 43.1565 897.569 L43.6021 895.564 Q44.9389 889.326 47.3897 886.716 Q49.8086 884.074 54.1691 884.074 Q59.1344 884.074 62.0308 888.021 Q64.9272 891.936 64.9272 898.811 Q64.9272 901.675 64.3543 904.794 Q63.8132 907.882 62.6992 911.319 L56.6518 911.319 Q58.3387 908.073 59.198 904.922 Q60.0256 901.771 60.0256 898.683 Q60.0256 894.546 58.6251 892.318 Q57.1929 890.09 54.6147 890.09 Q52.2276 890.09 50.9545 891.713 Q49.6813 893.304 48.5037 898.747 L48.0262 900.784 Q46.8804 906.227 44.5251 908.646 Q42.138 911.065 38.0002 911.065 Q32.9713 911.065 30.2341 907.5 Q27.4968 903.935 27.4968 897.378 Q27.4968 894.132 27.9743 891.267 Q28.4517 888.403 29.4065 885.984 Z\" fill=\"#000000\" fill-rule=\"nonzero\" fill-opacity=\"1\" /><path clip-path=\"url(#clip810)\" d=\"M14.479 874.971 L14.479 869.083 L43.7294 869.083 L28.3562 851.609 L28.3562 844.129 L45.0344 863.035 L64.0042 843.333 L64.0042 850.972 L46.5939 869.083 L64.0042 869.083 L64.0042 874.971 L14.479 874.971 Z\" fill=\"#000000\" fill-rule=\"nonzero\" fill-opacity=\"1\" /><path clip-path=\"url(#clip810)\" d=\"M44.7161 808.831 L47.5806 808.831 L47.5806 835.758 Q53.6281 835.376 56.8109 832.13 Q59.9619 828.852 59.9619 823.027 Q59.9619 819.653 59.1344 816.502 Q58.3069 813.319 56.6518 810.2 L62.1899 810.2 Q63.5267 813.351 64.227 816.661 Q64.9272 819.971 64.9272 823.377 Q64.9272 831.907 59.9619 836.904 Q54.9967 841.869 46.5303 841.869 Q37.7774 841.869 32.6531 837.159 Q27.4968 832.416 27.4968 824.396 Q27.4968 817.202 32.1438 813.033 Q36.7589 808.831 44.7161 808.831 M42.9973 814.688 Q38.1912 814.751 35.3266 817.393 Q32.4621 820.003 32.4621 824.332 Q32.4621 829.233 35.2312 832.194 Q38.0002 835.122 43.0292 835.567 L42.9973 814.688 Z\" fill=\"#000000\" fill-rule=\"nonzero\" fill-opacity=\"1\" /><path clip-path=\"url(#clip810)\" d=\"M18.2347 793.426 L28.3562 793.426 L28.3562 781.363 L32.9077 781.363 L32.9077 793.426 L52.2594 793.426 Q56.6199 793.426 57.8613 792.249 Q59.1026 791.039 59.1026 787.379 L59.1026 781.363 L64.0042 781.363 L64.0042 787.379 Q64.0042 794.158 61.4897 796.737 Q58.9434 799.315 52.2594 799.315 L32.9077 799.315 L32.9077 803.611 L28.3562 803.611 L28.3562 799.315 L18.2347 799.315 L18.2347 793.426 Z\" fill=\"#000000\" fill-rule=\"nonzero\" fill-opacity=\"1\" /><path clip-path=\"url(#clip810)\" d=\"M46.212 748.071 Q39.7508 748.071 36.0905 750.744 Q32.3984 753.386 32.3984 758.033 Q32.3984 762.68 36.0905 765.354 Q39.7508 767.995 46.212 767.995 Q52.6732 767.995 56.3653 765.354 Q60.0256 762.68 60.0256 758.033 Q60.0256 753.386 56.3653 750.744 Q52.6732 748.071 46.212 748.071 M33.7671 767.995 Q30.5842 766.149 29.0564 763.348 Q27.4968 760.516 27.4968 756.601 Q27.4968 750.108 32.6531 746.065 Q37.8093 741.991 46.212 741.991 Q54.6147 741.991 59.771 746.065 Q64.9272 750.108 64.9272 756.601 Q64.9272 760.516 63.3994 763.348 Q61.8398 766.149 58.657 767.995 L64.0042 767.995 L64.0042 773.884 L14.479 773.884 L14.479 767.995 L33.7671 767.995 Z\" fill=\"#000000\" fill-rule=\"nonzero\" fill-opacity=\"1\" /><path clip-path=\"url(#clip810)\" d=\"M46.0847 716.083 Q46.0847 723.181 47.7079 725.918 Q49.3312 728.655 53.2461 728.655 Q56.3653 728.655 58.2114 726.618 Q60.0256 724.549 60.0256 721.016 Q60.0256 716.147 56.5881 713.218 Q53.1188 710.258 47.3897 710.258 L46.0847 710.258 L46.0847 716.083 M43.6657 704.402 L64.0042 704.402 L64.0042 710.258 L58.5933 710.258 Q61.8398 712.264 63.3994 715.255 Q64.9272 718.247 64.9272 722.576 Q64.9272 728.051 61.8716 731.297 Q58.7843 734.512 53.6281 734.512 Q47.6125 734.512 44.5569 730.501 Q41.5014 726.459 41.5014 718.47 L41.5014 710.258 L40.9285 710.258 Q36.8862 710.258 34.6901 712.932 Q32.4621 715.574 32.4621 720.38 Q32.4621 723.435 33.1941 726.332 Q33.9262 729.228 35.3903 731.902 L29.9795 731.902 Q28.7381 728.687 28.1334 725.663 Q27.4968 722.64 27.4968 719.775 Q27.4968 712.041 31.5072 708.221 Q35.5176 704.402 43.6657 704.402 Z\" fill=\"#000000\" fill-rule=\"nonzero\" fill-opacity=\"1\" /><path clip-path=\"url(#clip810)\" d=\"M14.479 692.339 L14.479 686.482 L64.0042 686.482 L64.0042 692.339 L14.479 692.339 Z\" fill=\"#000000\" fill-rule=\"nonzero\" fill-opacity=\"1\" /><path clip-path=\"url(#clip810)\" d=\"M14.479 674.228 L14.479 668.372 L64.0042 668.372 L64.0042 674.228 L14.479 674.228 Z\" fill=\"#000000\" fill-rule=\"nonzero\" fill-opacity=\"1\" /><path clip-path=\"url(#clip810)\" d=\"M18.0438 606.657 L24.314 606.657 Q22.5634 610.317 21.704 613.563 Q20.8447 616.81 20.8447 619.834 Q20.8447 625.085 22.8817 627.95 Q24.9187 630.783 28.6745 630.783 Q31.8255 630.783 33.4488 628.905 Q35.0402 626.995 36.0269 621.711 L36.8226 617.828 Q38.1912 610.635 41.6605 607.229 Q45.098 603.792 50.8908 603.792 Q57.7976 603.792 61.3624 608.439 Q64.9272 613.054 64.9272 621.998 Q64.9272 625.372 64.1633 629.191 Q63.3994 632.979 61.9035 637.053 L55.2831 637.053 Q57.4793 633.138 58.5933 629.382 Q59.7073 625.626 59.7073 621.998 Q59.7073 616.492 57.543 613.5 Q55.3786 610.508 51.3682 610.508 Q47.8671 610.508 45.8937 612.672 Q43.9204 614.805 42.9337 619.706 L42.1698 623.621 Q40.7375 630.814 37.682 634.029 Q34.6264 637.244 29.1837 637.244 Q22.8817 637.244 19.2532 632.82 Q15.6248 628.364 15.6248 620.566 Q15.6248 617.224 16.2295 613.754 Q16.8343 610.285 18.0438 606.657 Z\" fill=\"#000000\" fill-rule=\"nonzero\" fill-opacity=\"1\" /><path clip-path=\"url(#clip810)\" d=\"M14.479 594.243 L14.479 588.355 L43.7294 588.355 L28.3562 570.881 L28.3562 563.402 L45.0344 582.308 L64.0042 562.606 L64.0042 570.245 L46.5939 588.355 L64.0042 588.355 L64.0042 594.243 L14.479 594.243 Z\" fill=\"#000000\" fill-rule=\"nonzero\" fill-opacity=\"1\" /><path clip-path=\"url(#clip810)\" d=\"M28.3562 556.272 L28.3562 550.416 L64.0042 550.416 L64.0042 556.272 L28.3562 556.272 M14.479 556.272 L14.479 550.416 L21.895 550.416 L21.895 556.272 L14.479 556.272 Z\" fill=\"#000000\" fill-rule=\"nonzero\" fill-opacity=\"1\" /><path clip-path=\"url(#clip810)\" d=\"M14.479 538.162 L14.479 532.305 L64.0042 532.305 L64.0042 538.162 L14.479 538.162 Z\" fill=\"#000000\" fill-rule=\"nonzero\" fill-opacity=\"1\" /><path clip-path=\"url(#clip810)\" d=\"M14.479 520.051 L14.479 514.195 L64.0042 514.195 L64.0042 520.051 L14.479 520.051 Z\" fill=\"#000000\" fill-rule=\"nonzero\" fill-opacity=\"1\" /><path clip-path=\"url(#clip810)\" d=\"M29.4065 479.215 L34.9447 479.215 Q33.6716 481.698 33.035 484.371 Q32.3984 487.045 32.3984 489.909 Q32.3984 494.27 33.7352 496.466 Q35.072 498.63 37.7456 498.63 Q39.7826 498.63 40.9603 497.071 Q42.1061 495.511 43.1565 490.801 L43.6021 488.795 Q44.9389 482.557 47.3897 479.947 Q49.8086 477.305 54.1691 477.305 Q59.1344 477.305 62.0308 481.252 Q64.9272 485.167 64.9272 492.042 Q64.9272 494.907 64.3543 498.026 Q63.8132 501.113 62.6992 504.551 L56.6518 504.551 Q58.3387 501.304 59.198 498.153 Q60.0256 495.002 60.0256 491.915 Q60.0256 487.777 58.6251 485.549 Q57.1929 483.321 54.6147 483.321 Q52.2276 483.321 50.9545 484.944 Q49.6813 486.536 48.5037 491.978 L48.0262 494.015 Q46.8804 499.458 44.5251 501.877 Q42.138 504.296 38.0002 504.296 Q32.9713 504.296 30.2341 500.731 Q27.4968 497.166 27.4968 490.61 Q27.4968 487.363 27.9743 484.499 Q28.4517 481.634 29.4065 479.215 Z\" fill=\"#000000\" fill-rule=\"nonzero\" fill-opacity=\"1\" /><circle clip-path=\"url(#clip812)\" cx=\"1452.6\" cy=\"581.963\" r=\"10.8\" fill=\"#000000\" fill-rule=\"evenodd\" fill-opacity=\"1\" stroke=\"none\"/>\n",
       "<circle clip-path=\"url(#clip812)\" cx=\"1732.65\" cy=\"434.347\" r=\"10.8\" fill=\"#000000\" fill-rule=\"evenodd\" fill-opacity=\"1\" stroke=\"none\"/>\n",
       "<circle clip-path=\"url(#clip812)\" cx=\"1612.63\" cy=\"521.944\" r=\"10.8\" fill=\"#000000\" fill-rule=\"evenodd\" fill-opacity=\"1\" stroke=\"none\"/>\n",
       "<circle clip-path=\"url(#clip812)\" cx=\"1372.59\" cy=\"703.147\" r=\"10.8\" fill=\"#000000\" fill-rule=\"evenodd\" fill-opacity=\"1\" stroke=\"none\"/>\n",
       "<circle clip-path=\"url(#clip812)\" cx=\"892.503\" cy=\"760.124\" r=\"10.8\" fill=\"#000000\" fill-rule=\"evenodd\" fill-opacity=\"1\" stroke=\"none\"/>\n",
       "<circle clip-path=\"url(#clip812)\" cx=\"1892.68\" cy=\"380.736\" r=\"10.8\" fill=\"#000000\" fill-rule=\"evenodd\" fill-opacity=\"1\" stroke=\"none\"/>\n",
       "<circle clip-path=\"url(#clip812)\" cx=\"1412.59\" cy=\"652.822\" r=\"10.8\" fill=\"#000000\" fill-rule=\"evenodd\" fill-opacity=\"1\" stroke=\"none\"/>\n",
       "<circle clip-path=\"url(#clip812)\" cx=\"1572.62\" cy=\"473.238\" r=\"10.8\" fill=\"#000000\" fill-rule=\"evenodd\" fill-opacity=\"1\" stroke=\"none\"/>\n",
       "<circle clip-path=\"url(#clip812)\" cx=\"412.42\" cy=\"1050.48\" r=\"10.8\" fill=\"#000000\" fill-rule=\"evenodd\" fill-opacity=\"1\" stroke=\"none\"/>\n",
       "<circle clip-path=\"url(#clip812)\" cx=\"1572.62\" cy=\"414.986\" r=\"10.8\" fill=\"#000000\" fill-rule=\"evenodd\" fill-opacity=\"1\" stroke=\"none\"/>\n",
       "<circle clip-path=\"url(#clip812)\" cx=\"2052.7\" cy=\"400.882\" r=\"10.8\" fill=\"#000000\" fill-rule=\"evenodd\" fill-opacity=\"1\" stroke=\"none\"/>\n",
       "<circle clip-path=\"url(#clip812)\" cx=\"1852.67\" cy=\"491.337\" r=\"10.8\" fill=\"#000000\" fill-rule=\"evenodd\" fill-opacity=\"1\" stroke=\"none\"/>\n",
       "<circle clip-path=\"url(#clip812)\" cx=\"612.455\" cy=\"1117.2\" r=\"10.8\" fill=\"#000000\" fill-rule=\"evenodd\" fill-opacity=\"1\" stroke=\"none\"/>\n",
       "<circle clip-path=\"url(#clip812)\" cx=\"1372.59\" cy=\"541.747\" r=\"10.8\" fill=\"#000000\" fill-rule=\"evenodd\" fill-opacity=\"1\" stroke=\"none\"/>\n",
       "<circle clip-path=\"url(#clip812)\" cx=\"852.497\" cy=\"1021.45\" r=\"10.8\" fill=\"#000000\" fill-rule=\"evenodd\" fill-opacity=\"1\" stroke=\"none\"/>\n",
       "<circle clip-path=\"url(#clip812)\" cx=\"612.455\" cy=\"985.703\" r=\"10.8\" fill=\"#000000\" fill-rule=\"evenodd\" fill-opacity=\"1\" stroke=\"none\"/>\n",
       "<circle clip-path=\"url(#clip812)\" cx=\"1652.63\" cy=\"589.253\" r=\"10.8\" fill=\"#000000\" fill-rule=\"evenodd\" fill-opacity=\"1\" stroke=\"none\"/>\n",
       "<circle clip-path=\"url(#clip812)\" cx=\"532.441\" cy=\"1114.5\" r=\"10.8\" fill=\"#000000\" fill-rule=\"evenodd\" fill-opacity=\"1\" stroke=\"none\"/>\n",
       "<circle clip-path=\"url(#clip812)\" cx=\"1092.54\" cy=\"794.403\" r=\"10.8\" fill=\"#000000\" fill-rule=\"evenodd\" fill-opacity=\"1\" stroke=\"none\"/>\n",
       "<circle clip-path=\"url(#clip812)\" cx=\"1972.69\" cy=\"326.205\" r=\"10.8\" fill=\"#000000\" fill-rule=\"evenodd\" fill-opacity=\"1\" stroke=\"none\"/>\n",
       "<circle clip-path=\"url(#clip812)\" cx=\"2092.71\" cy=\"184.951\" r=\"10.8\" fill=\"#000000\" fill-rule=\"evenodd\" fill-opacity=\"1\" stroke=\"none\"/>\n",
       "<circle clip-path=\"url(#clip812)\" cx=\"1652.63\" cy=\"486.55\" r=\"10.8\" fill=\"#000000\" fill-rule=\"evenodd\" fill-opacity=\"1\" stroke=\"none\"/>\n",
       "<circle clip-path=\"url(#clip812)\" cx=\"852.497\" cy=\"985.931\" r=\"10.8\" fill=\"#000000\" fill-rule=\"evenodd\" fill-opacity=\"1\" stroke=\"none\"/>\n",
       "<circle clip-path=\"url(#clip812)\" cx=\"2252.74\" cy=\"243.984\" r=\"10.8\" fill=\"#000000\" fill-rule=\"evenodd\" fill-opacity=\"1\" stroke=\"none\"/>\n",
       "<circle clip-path=\"url(#clip812)\" cx=\"1252.57\" cy=\"694.432\" r=\"10.8\" fill=\"#000000\" fill-rule=\"evenodd\" fill-opacity=\"1\" stroke=\"none\"/>\n",
       "<circle clip-path=\"url(#clip812)\" cx=\"1372.59\" cy=\"702.037\" r=\"10.8\" fill=\"#000000\" fill-rule=\"evenodd\" fill-opacity=\"1\" stroke=\"none\"/>\n",
       "<circle clip-path=\"url(#clip812)\" cx=\"492.434\" cy=\"1023.15\" r=\"10.8\" fill=\"#000000\" fill-rule=\"evenodd\" fill-opacity=\"1\" stroke=\"none\"/>\n",
       "<circle clip-path=\"url(#clip812)\" cx=\"1732.65\" cy=\"412.678\" r=\"10.8\" fill=\"#000000\" fill-rule=\"evenodd\" fill-opacity=\"1\" stroke=\"none\"/>\n",
       "<circle clip-path=\"url(#clip812)\" cx=\"1372.59\" cy=\"636.272\" r=\"10.8\" fill=\"#000000\" fill-rule=\"evenodd\" fill-opacity=\"1\" stroke=\"none\"/>\n",
       "<circle clip-path=\"url(#clip812)\" cx=\"292.4\" cy=\"1257.34\" r=\"10.8\" fill=\"#000000\" fill-rule=\"evenodd\" fill-opacity=\"1\" stroke=\"none\"/>\n",
       "<circle clip-path=\"url(#clip812)\" cx=\"1532.61\" cy=\"474.124\" r=\"10.8\" fill=\"#000000\" fill-rule=\"evenodd\" fill-opacity=\"1\" stroke=\"none\"/>\n",
       "<circle clip-path=\"url(#clip812)\" cx=\"1572.62\" cy=\"618.174\" r=\"10.8\" fill=\"#000000\" fill-rule=\"evenodd\" fill-opacity=\"1\" stroke=\"none\"/>\n",
       "<circle clip-path=\"url(#clip812)\" cx=\"2252.74\" cy=\"121.889\" r=\"10.8\" fill=\"#000000\" fill-rule=\"evenodd\" fill-opacity=\"1\" stroke=\"none\"/>\n",
       "<circle clip-path=\"url(#clip812)\" cx=\"1132.54\" cy=\"861.801\" r=\"10.8\" fill=\"#000000\" fill-rule=\"evenodd\" fill-opacity=\"1\" stroke=\"none\"/>\n",
       "<circle clip-path=\"url(#clip812)\" cx=\"1052.53\" cy=\"879.659\" r=\"10.8\" fill=\"#000000\" fill-rule=\"evenodd\" fill-opacity=\"1\" stroke=\"none\"/>\n",
       "<circle clip-path=\"url(#clip812)\" cx=\"412.42\" cy=\"1028.4\" r=\"10.8\" fill=\"#000000\" fill-rule=\"evenodd\" fill-opacity=\"1\" stroke=\"none\"/>\n",
       "<circle clip-path=\"url(#clip812)\" cx=\"1132.54\" cy=\"783.2\" r=\"10.8\" fill=\"#000000\" fill-rule=\"evenodd\" fill-opacity=\"1\" stroke=\"none\"/>\n",
       "<circle clip-path=\"url(#clip812)\" cx=\"972.517\" cy=\"715.077\" r=\"10.8\" fill=\"#000000\" fill-rule=\"evenodd\" fill-opacity=\"1\" stroke=\"none\"/>\n",
       "<circle clip-path=\"url(#clip812)\" cx=\"412.42\" cy=\"1190.14\" r=\"10.8\" fill=\"#000000\" fill-rule=\"evenodd\" fill-opacity=\"1\" stroke=\"none\"/>\n",
       "<circle clip-path=\"url(#clip812)\" cx=\"732.476\" cy=\"1044.89\" r=\"10.8\" fill=\"#000000\" fill-rule=\"evenodd\" fill-opacity=\"1\" stroke=\"none\"/>\n",
       "<circle clip-path=\"url(#clip812)\" cx=\"2132.72\" cy=\"220.559\" r=\"10.8\" fill=\"#000000\" fill-rule=\"evenodd\" fill-opacity=\"1\" stroke=\"none\"/>\n",
       "<circle clip-path=\"url(#clip812)\" cx=\"1172.55\" cy=\"798.699\" r=\"10.8\" fill=\"#000000\" fill-rule=\"evenodd\" fill-opacity=\"1\" stroke=\"none\"/>\n",
       "<circle clip-path=\"url(#clip812)\" cx=\"1692.64\" cy=\"525.026\" r=\"10.8\" fill=\"#000000\" fill-rule=\"evenodd\" fill-opacity=\"1\" stroke=\"none\"/>\n",
       "<circle clip-path=\"url(#clip812)\" cx=\"612.455\" cy=\"1018.46\" r=\"10.8\" fill=\"#000000\" fill-rule=\"evenodd\" fill-opacity=\"1\" stroke=\"none\"/>\n",
       "<circle clip-path=\"url(#clip812)\" cx=\"1892.68\" cy=\"465.211\" r=\"10.8\" fill=\"#000000\" fill-rule=\"evenodd\" fill-opacity=\"1\" stroke=\"none\"/>\n",
       "<circle clip-path=\"url(#clip812)\" cx=\"892.503\" cy=\"864.253\" r=\"10.8\" fill=\"#000000\" fill-rule=\"evenodd\" fill-opacity=\"1\" stroke=\"none\"/>\n",
       "<circle clip-path=\"url(#clip812)\" cx=\"1332.58\" cy=\"646.414\" r=\"10.8\" fill=\"#000000\" fill-rule=\"evenodd\" fill-opacity=\"1\" stroke=\"none\"/>\n",
       "<circle clip-path=\"url(#clip812)\" cx=\"1212.56\" cy=\"886.085\" r=\"10.8\" fill=\"#000000\" fill-rule=\"evenodd\" fill-opacity=\"1\" stroke=\"none\"/>\n",
       "<circle clip-path=\"url(#clip812)\" cx=\"1012.52\" cy=\"773.17\" r=\"10.8\" fill=\"#000000\" fill-rule=\"evenodd\" fill-opacity=\"1\" stroke=\"none\"/>\n",
       "<circle clip-path=\"url(#clip812)\" cx=\"452.427\" cy=\"1081.14\" r=\"10.8\" fill=\"#000000\" fill-rule=\"evenodd\" fill-opacity=\"1\" stroke=\"none\"/>\n",
       "<circle clip-path=\"url(#clip812)\" cx=\"332.407\" cy=\"1174.14\" r=\"10.8\" fill=\"#000000\" fill-rule=\"evenodd\" fill-opacity=\"1\" stroke=\"none\"/>\n",
       "<circle clip-path=\"url(#clip812)\" cx=\"1172.55\" cy=\"738.486\" r=\"10.8\" fill=\"#000000\" fill-rule=\"evenodd\" fill-opacity=\"1\" stroke=\"none\"/>\n",
       "<circle clip-path=\"url(#clip812)\" cx=\"332.407\" cy=\"1348.63\" r=\"10.8\" fill=\"#000000\" fill-rule=\"evenodd\" fill-opacity=\"1\" stroke=\"none\"/>\n",
       "<circle clip-path=\"url(#clip812)\" cx=\"532.441\" cy=\"1115.91\" r=\"10.8\" fill=\"#000000\" fill-rule=\"evenodd\" fill-opacity=\"1\" stroke=\"none\"/>\n",
       "<circle clip-path=\"url(#clip812)\" cx=\"2172.72\" cy=\"392.45\" r=\"10.8\" fill=\"#000000\" fill-rule=\"evenodd\" fill-opacity=\"1\" stroke=\"none\"/>\n",
       "<circle clip-path=\"url(#clip812)\" cx=\"2212.73\" cy=\"114.521\" r=\"10.8\" fill=\"#000000\" fill-rule=\"evenodd\" fill-opacity=\"1\" stroke=\"none\"/>\n",
       "<circle clip-path=\"url(#clip812)\" cx=\"612.455\" cy=\"965.562\" r=\"10.8\" fill=\"#000000\" fill-rule=\"evenodd\" fill-opacity=\"1\" stroke=\"none\"/>\n",
       "<circle clip-path=\"url(#clip812)\" cx=\"692.469\" cy=\"1103.25\" r=\"10.8\" fill=\"#000000\" fill-rule=\"evenodd\" fill-opacity=\"1\" stroke=\"none\"/>\n",
       "<circle clip-path=\"url(#clip812)\" cx=\"2012.7\" cy=\"337.251\" r=\"10.8\" fill=\"#000000\" fill-rule=\"evenodd\" fill-opacity=\"1\" stroke=\"none\"/>\n",
       "<circle clip-path=\"url(#clip812)\" cx=\"2252.74\" cy=\"86.1857\" r=\"10.8\" fill=\"#000000\" fill-rule=\"evenodd\" fill-opacity=\"1\" stroke=\"none\"/>\n",
       "<circle clip-path=\"url(#clip812)\" cx=\"1692.64\" cy=\"333.947\" r=\"10.8\" fill=\"#000000\" fill-rule=\"evenodd\" fill-opacity=\"1\" stroke=\"none\"/>\n",
       "<circle clip-path=\"url(#clip812)\" cx=\"1932.68\" cy=\"347.054\" r=\"10.8\" fill=\"#000000\" fill-rule=\"evenodd\" fill-opacity=\"1\" stroke=\"none\"/>\n",
       "<circle clip-path=\"url(#clip812)\" cx=\"1452.6\" cy=\"532.76\" r=\"10.8\" fill=\"#000000\" fill-rule=\"evenodd\" fill-opacity=\"1\" stroke=\"none\"/>\n",
       "<circle clip-path=\"url(#clip812)\" cx=\"972.517\" cy=\"816.008\" r=\"10.8\" fill=\"#000000\" fill-rule=\"evenodd\" fill-opacity=\"1\" stroke=\"none\"/>\n",
       "<circle clip-path=\"url(#clip812)\" cx=\"1092.54\" cy=\"859.184\" r=\"10.8\" fill=\"#000000\" fill-rule=\"evenodd\" fill-opacity=\"1\" stroke=\"none\"/>\n",
       "<circle clip-path=\"url(#clip812)\" cx=\"1092.54\" cy=\"784.384\" r=\"10.8\" fill=\"#000000\" fill-rule=\"evenodd\" fill-opacity=\"1\" stroke=\"none\"/>\n",
       "<circle clip-path=\"url(#clip812)\" cx=\"932.51\" cy=\"873.389\" r=\"10.8\" fill=\"#000000\" fill-rule=\"evenodd\" fill-opacity=\"1\" stroke=\"none\"/>\n",
       "<circle clip-path=\"url(#clip812)\" cx=\"2292.75\" cy=\"251.512\" r=\"10.8\" fill=\"#000000\" fill-rule=\"evenodd\" fill-opacity=\"1\" stroke=\"none\"/>\n",
       "<circle clip-path=\"url(#clip812)\" cx=\"1692.64\" cy=\"515.848\" r=\"10.8\" fill=\"#000000\" fill-rule=\"evenodd\" fill-opacity=\"1\" stroke=\"none\"/>\n",
       "<circle clip-path=\"url(#clip812)\" cx=\"772.483\" cy=\"960.382\" r=\"10.8\" fill=\"#000000\" fill-rule=\"evenodd\" fill-opacity=\"1\" stroke=\"none\"/>\n",
       "<circle clip-path=\"url(#clip812)\" cx=\"1892.68\" cy=\"390.707\" r=\"10.8\" fill=\"#000000\" fill-rule=\"evenodd\" fill-opacity=\"1\" stroke=\"none\"/>\n",
       "<circle clip-path=\"url(#clip812)\" cx=\"1692.64\" cy=\"528.593\" r=\"10.8\" fill=\"#000000\" fill-rule=\"evenodd\" fill-opacity=\"1\" stroke=\"none\"/>\n",
       "<circle clip-path=\"url(#clip812)\" cx=\"1412.59\" cy=\"518.641\" r=\"10.8\" fill=\"#000000\" fill-rule=\"evenodd\" fill-opacity=\"1\" stroke=\"none\"/>\n",
       "<circle clip-path=\"url(#clip812)\" cx=\"1732.65\" cy=\"481.674\" r=\"10.8\" fill=\"#000000\" fill-rule=\"evenodd\" fill-opacity=\"1\" stroke=\"none\"/>\n",
       "<circle clip-path=\"url(#clip812)\" cx=\"2012.7\" cy=\"488.641\" r=\"10.8\" fill=\"#000000\" fill-rule=\"evenodd\" fill-opacity=\"1\" stroke=\"none\"/>\n",
       "<circle clip-path=\"url(#clip812)\" cx=\"1892.68\" cy=\"240.565\" r=\"10.8\" fill=\"#000000\" fill-rule=\"evenodd\" fill-opacity=\"1\" stroke=\"none\"/>\n",
       "<circle clip-path=\"url(#clip812)\" cx=\"1532.61\" cy=\"553.577\" r=\"10.8\" fill=\"#000000\" fill-rule=\"evenodd\" fill-opacity=\"1\" stroke=\"none\"/>\n",
       "<circle clip-path=\"url(#clip812)\" cx=\"1652.63\" cy=\"506.788\" r=\"10.8\" fill=\"#000000\" fill-rule=\"evenodd\" fill-opacity=\"1\" stroke=\"none\"/>\n",
       "<circle clip-path=\"url(#clip812)\" cx=\"372.414\" cy=\"1209.5\" r=\"10.8\" fill=\"#000000\" fill-rule=\"evenodd\" fill-opacity=\"1\" stroke=\"none\"/>\n",
       "<circle clip-path=\"url(#clip812)\" cx=\"1572.62\" cy=\"1384.24\" r=\"10.8\" fill=\"#000000\" fill-rule=\"evenodd\" fill-opacity=\"1\" stroke=\"none\"/>\n",
       "</svg>\n"
      ]
     },
     "execution_count": 51,
     "metadata": {},
     "output_type": "execute_result"
    }
   ],
   "source": [
    "using Plots\n",
    "scatter(heights, skills, legend=false, markersize=3, color=:black, xlabel=\"Height (inches)\", ylabel=\"Basketball Skills\")\n"
   ]
  },
  {
   "cell_type": "markdown",
   "id": "e88e8788-b866-4a83-a269-d92ebabe636f",
   "metadata": {},
   "source": [
    "Ok, now let's see if we can use the *Value* class to fit a line to this data."
   ]
  },
  {
   "cell_type": "code",
   "execution_count": 52,
   "id": "335df228-ba72-4d26-a377-06caebad8390",
   "metadata": {},
   "outputs": [],
   "source": [
    "heights = [Value(item) for item in heights];\n",
    "skills = [Value(item) for item in skills];"
   ]
  },
  {
   "cell_type": "code",
   "execution_count": 53,
   "id": "ed616afe-ce3b-4aff-9724-8a000555b76d",
   "metadata": {},
   "outputs": [],
   "source": [
    "lr = 0.000002;\n",
    "runs = 100000;\n",
    "\n",
    "# initial guesses to start with\n",
    "m_guess = Value(0);\n",
    "b_guess = Value(0);"
   ]
  },
  {
   "cell_type": "code",
   "execution_count": 54,
   "id": "ecd2b46f-f832-4a30-a411-f798eff149c6",
   "metadata": {},
   "outputs": [
    {
     "name": "stdout",
     "output_type": "stream",
     "text": [
      "Run: 5000, loss: 10603.234\n",
      "Run: 10000, loss: 10506.304\n",
      "Run: 15000, loss: 10422.305\n",
      "Run: 20000, loss: 10349.512\n",
      "Run: 25000, loss: 10286.43\n",
      "Run: 30000, loss: 10231.763\n",
      "Run: 35000, loss: 10184.388\n",
      "Run: 40000, loss: 10143.334\n",
      "Run: 45000, loss: 10107.757\n",
      "Run: 50000, loss: 10076.925\n",
      "Run: 55000, loss: 10050.207\n",
      "Run: 60000, loss: 10027.053\n",
      "Run: 65000, loss: 10006.988\n",
      "Run: 70000, loss: 9989.6\n",
      "Run: 75000, loss: 9974.531\n",
      "Run: 80000, loss: 9961.473\n",
      "Run: 85000, loss: 9950.156\n",
      "Run: 90000, loss: 9940.35\n",
      "Run: 95000, loss: 9931.851\n",
      "Run: 100000, loss: 9924.487\n"
     ]
    }
   ],
   "source": [
    "\n",
    "for run in 1:runs\n",
    "\n",
    "    m_guess.grad = 0\n",
    "    b_guess.grad = 0\n",
    "\n",
    "    global loss = Value(0)\n",
    "\n",
    "    for i in 1:length(heights)\n",
    "\n",
    "        skill_pred = heights[i] * m_guess + b_guess\n",
    "        loss_to_add = (skill_pred - skills[i])^2\n",
    "        global loss += loss_to_add\n",
    "    end\n",
    "\n",
    "    \n",
    "    backward(loss)\n",
    "\n",
    "    m_guess.data -= m_guess.grad * lr\n",
    "    b_guess.data -= b_guess.grad * lr\n",
    "\n",
    "    if run % 5000 == 0\n",
    "        println(\"Run: $run, loss: $(round(loss.data[1], digits=3))\")\n",
    "    end\n",
    "\n",
    "end"
   ]
  },
  {
   "cell_type": "markdown",
   "id": "03f12f29-32e2-4bfd-8fb6-edc3722b3bfe",
   "metadata": {},
   "source": [
    "Let's see where our guesses for *m* and *b* are at now."
   ]
  },
  {
   "cell_type": "code",
   "execution_count": 55,
   "id": "4c3a994d-bd39-4838-87fc-ed6de1b3ba2c",
   "metadata": {},
   "outputs": [
    {
     "name": "stdout",
     "output_type": "stream",
     "text": [
      "m guess:\n",
      "Value(1.9461732519991672)\n",
      "\n",
      "b guess:\n",
      "Value(11.678150914111233)\n",
      "\n"
     ]
    }
   ],
   "source": [
    "println(\"m guess:\")\n",
    "println(m_guess)\n",
    "println()\n",
    "println(\"b guess:\")\n",
    "println(b_guess)\n",
    "println()"
   ]
  },
  {
   "cell_type": "markdown",
   "id": "55fc0495-4f10-4abb-b9c5-88a779085c2a",
   "metadata": {},
   "source": [
    "Pretty close to the real values that we originally used to make the data!\n",
    "\n",
    "We can also plot the fit line with these *m* and *b* parameters."
   ]
  },
  {
   "cell_type": "code",
   "execution_count": 56,
   "id": "9b64901e-b4f9-4029-a50e-7772e4be6c97",
   "metadata": {},
   "outputs": [
    {
     "data": {
      "image/svg+xml": [
       "<?xml version=\"1.0\" encoding=\"utf-8\"?>\n",
       "<svg xmlns=\"http://www.w3.org/2000/svg\" xmlns:xlink=\"http://www.w3.org/1999/xlink\" width=\"600\" height=\"400\" viewBox=\"0 0 2400 1600\">\n",
       "<defs>\n",
       "  <clipPath id=\"clip850\">\n",
       "    <rect x=\"0\" y=\"0\" width=\"2400\" height=\"1600\"/>\n",
       "  </clipPath>\n",
       "</defs>\n",
       "<path clip-path=\"url(#clip850)\" d=\"M0 1600 L2400 1600 L2400 0 L0 0  Z\" fill=\"#ffffff\" fill-rule=\"evenodd\" fill-opacity=\"1\"/>\n",
       "<defs>\n",
       "  <clipPath id=\"clip851\">\n",
       "    <rect x=\"480\" y=\"0\" width=\"1681\" height=\"1600\"/>\n",
       "  </clipPath>\n",
       "</defs>\n",
       "<path clip-path=\"url(#clip850)\" d=\"M232.389 1423.18 L2352.76 1423.18 L2352.76 47.2441 L232.389 47.2441  Z\" fill=\"#ffffff\" fill-rule=\"evenodd\" fill-opacity=\"1\"/>\n",
       "<defs>\n",
       "  <clipPath id=\"clip852\">\n",
       "    <rect x=\"232\" y=\"47\" width=\"2121\" height=\"1377\"/>\n",
       "  </clipPath>\n",
       "</defs>\n",
       "<polyline clip-path=\"url(#clip852)\" style=\"stroke:#000000; stroke-linecap:round; stroke-linejoin:round; stroke-width:2; stroke-opacity:0.1; fill:none\" points=\"292.4,1423.18 292.4,47.2441 \"/>\n",
       "<polyline clip-path=\"url(#clip852)\" style=\"stroke:#000000; stroke-linecap:round; stroke-linejoin:round; stroke-width:2; stroke-opacity:0.1; fill:none\" points=\"692.469,1423.18 692.469,47.2441 \"/>\n",
       "<polyline clip-path=\"url(#clip852)\" style=\"stroke:#000000; stroke-linecap:round; stroke-linejoin:round; stroke-width:2; stroke-opacity:0.1; fill:none\" points=\"1092.54,1423.18 1092.54,47.2441 \"/>\n",
       "<polyline clip-path=\"url(#clip852)\" style=\"stroke:#000000; stroke-linecap:round; stroke-linejoin:round; stroke-width:2; stroke-opacity:0.1; fill:none\" points=\"1492.61,1423.18 1492.61,47.2441 \"/>\n",
       "<polyline clip-path=\"url(#clip852)\" style=\"stroke:#000000; stroke-linecap:round; stroke-linejoin:round; stroke-width:2; stroke-opacity:0.1; fill:none\" points=\"1892.68,1423.18 1892.68,47.2441 \"/>\n",
       "<polyline clip-path=\"url(#clip852)\" style=\"stroke:#000000; stroke-linecap:round; stroke-linejoin:round; stroke-width:2; stroke-opacity:0.1; fill:none\" points=\"2292.75,1423.18 2292.75,47.2441 \"/>\n",
       "<polyline clip-path=\"url(#clip850)\" style=\"stroke:#000000; stroke-linecap:round; stroke-linejoin:round; stroke-width:4; stroke-opacity:1; fill:none\" points=\"232.389,1423.18 2352.76,1423.18 \"/>\n",
       "<polyline clip-path=\"url(#clip850)\" style=\"stroke:#000000; stroke-linecap:round; stroke-linejoin:round; stroke-width:4; stroke-opacity:1; fill:none\" points=\"292.4,1423.18 292.4,1404.28 \"/>\n",
       "<polyline clip-path=\"url(#clip850)\" style=\"stroke:#000000; stroke-linecap:round; stroke-linejoin:round; stroke-width:4; stroke-opacity:1; fill:none\" points=\"692.469,1423.18 692.469,1404.28 \"/>\n",
       "<polyline clip-path=\"url(#clip850)\" style=\"stroke:#000000; stroke-linecap:round; stroke-linejoin:round; stroke-width:4; stroke-opacity:1; fill:none\" points=\"1092.54,1423.18 1092.54,1404.28 \"/>\n",
       "<polyline clip-path=\"url(#clip850)\" style=\"stroke:#000000; stroke-linecap:round; stroke-linejoin:round; stroke-width:4; stroke-opacity:1; fill:none\" points=\"1492.61,1423.18 1492.61,1404.28 \"/>\n",
       "<polyline clip-path=\"url(#clip850)\" style=\"stroke:#000000; stroke-linecap:round; stroke-linejoin:round; stroke-width:4; stroke-opacity:1; fill:none\" points=\"1892.68,1423.18 1892.68,1404.28 \"/>\n",
       "<polyline clip-path=\"url(#clip850)\" style=\"stroke:#000000; stroke-linecap:round; stroke-linejoin:round; stroke-width:4; stroke-opacity:1; fill:none\" points=\"2292.75,1423.18 2292.75,1404.28 \"/>\n",
       "<path clip-path=\"url(#clip850)\" d=\"M280.571 1455.09 L268.766 1473.54 L280.571 1473.54 L280.571 1455.09 M279.344 1451.02 L285.224 1451.02 L285.224 1473.54 L290.154 1473.54 L290.154 1477.43 L285.224 1477.43 L285.224 1485.58 L280.571 1485.58 L280.571 1477.43 L264.969 1477.43 L264.969 1472.92 L279.344 1451.02 Z\" fill=\"#000000\" fill-rule=\"nonzero\" fill-opacity=\"1\" /><path clip-path=\"url(#clip850)\" d=\"M307.886 1454.1 Q304.275 1454.1 302.446 1457.66 Q300.64 1461.2 300.64 1468.33 Q300.64 1475.44 302.446 1479.01 Q304.275 1482.55 307.886 1482.55 Q311.52 1482.55 313.326 1479.01 Q315.154 1475.44 315.154 1468.33 Q315.154 1461.2 313.326 1457.66 Q311.52 1454.1 307.886 1454.1 M307.886 1450.39 Q313.696 1450.39 316.751 1455 Q319.83 1459.58 319.83 1468.33 Q319.83 1477.06 316.751 1481.67 Q313.696 1486.25 307.886 1486.25 Q302.076 1486.25 298.997 1481.67 Q295.941 1477.06 295.941 1468.33 Q295.941 1459.58 298.997 1455 Q302.076 1450.39 307.886 1450.39 Z\" fill=\"#000000\" fill-rule=\"nonzero\" fill-opacity=\"1\" /><path clip-path=\"url(#clip850)\" d=\"M667.168 1451.02 L685.524 1451.02 L685.524 1454.96 L671.45 1454.96 L671.45 1463.43 Q672.469 1463.08 673.488 1462.92 Q674.506 1462.73 675.525 1462.73 Q681.312 1462.73 684.691 1465.9 Q688.071 1469.08 688.071 1474.49 Q688.071 1480.07 684.599 1483.17 Q681.126 1486.25 674.807 1486.25 Q672.631 1486.25 670.363 1485.88 Q668.117 1485.51 665.71 1484.77 L665.71 1480.07 Q667.793 1481.2 670.015 1481.76 Q672.238 1482.32 674.714 1482.32 Q678.719 1482.32 681.057 1480.21 Q683.395 1478.1 683.395 1474.49 Q683.395 1470.88 681.057 1468.77 Q678.719 1466.67 674.714 1466.67 Q672.839 1466.67 670.964 1467.08 Q669.113 1467.5 667.168 1468.38 L667.168 1451.02 Z\" fill=\"#000000\" fill-rule=\"nonzero\" fill-opacity=\"1\" /><path clip-path=\"url(#clip850)\" d=\"M707.284 1454.1 Q703.673 1454.1 701.844 1457.66 Q700.038 1461.2 700.038 1468.33 Q700.038 1475.44 701.844 1479.01 Q703.673 1482.55 707.284 1482.55 Q710.918 1482.55 712.723 1479.01 Q714.552 1475.44 714.552 1468.33 Q714.552 1461.2 712.723 1457.66 Q710.918 1454.1 707.284 1454.1 M707.284 1450.39 Q713.094 1450.39 716.149 1455 Q719.228 1459.58 719.228 1468.33 Q719.228 1477.06 716.149 1481.67 Q713.094 1486.25 707.284 1486.25 Q701.473 1486.25 698.395 1481.67 Q695.339 1477.06 695.339 1468.33 Q695.339 1459.58 698.395 1455 Q701.473 1450.39 707.284 1450.39 Z\" fill=\"#000000\" fill-rule=\"nonzero\" fill-opacity=\"1\" /><path clip-path=\"url(#clip850)\" d=\"M1077.94 1466.44 Q1074.8 1466.44 1072.94 1468.59 Q1071.11 1470.74 1071.11 1474.49 Q1071.11 1478.22 1072.94 1480.39 Q1074.8 1482.55 1077.94 1482.55 Q1081.09 1482.55 1082.92 1480.39 Q1084.77 1478.22 1084.77 1474.49 Q1084.77 1470.74 1082.92 1468.59 Q1081.09 1466.44 1077.94 1466.44 M1087.23 1451.78 L1087.23 1456.04 Q1085.47 1455.21 1083.66 1454.77 Q1081.88 1454.33 1080.12 1454.33 Q1075.49 1454.33 1073.04 1457.45 Q1070.61 1460.58 1070.26 1466.9 Q1071.62 1464.89 1073.68 1463.82 Q1075.74 1462.73 1078.22 1462.73 Q1083.43 1462.73 1086.44 1465.9 Q1089.47 1469.05 1089.47 1474.49 Q1089.47 1479.82 1086.32 1483.03 Q1083.17 1486.25 1077.94 1486.25 Q1071.95 1486.25 1068.78 1481.67 Q1065.61 1477.06 1065.61 1468.33 Q1065.61 1460.14 1069.49 1455.28 Q1073.38 1450.39 1079.93 1450.39 Q1081.69 1450.39 1083.48 1450.74 Q1085.28 1451.09 1087.23 1451.78 Z\" fill=\"#000000\" fill-rule=\"nonzero\" fill-opacity=\"1\" /><path clip-path=\"url(#clip850)\" d=\"M1107.53 1454.1 Q1103.92 1454.1 1102.09 1457.66 Q1100.28 1461.2 1100.28 1468.33 Q1100.28 1475.44 1102.09 1479.01 Q1103.92 1482.55 1107.53 1482.55 Q1111.16 1482.55 1112.97 1479.01 Q1114.79 1475.44 1114.79 1468.33 Q1114.79 1461.2 1112.97 1457.66 Q1111.16 1454.1 1107.53 1454.1 M1107.53 1450.39 Q1113.34 1450.39 1116.39 1455 Q1119.47 1459.58 1119.47 1468.33 Q1119.47 1477.06 1116.39 1481.67 Q1113.34 1486.25 1107.53 1486.25 Q1101.72 1486.25 1098.64 1481.67 Q1095.58 1477.06 1095.58 1468.33 Q1095.58 1459.58 1098.64 1455 Q1101.72 1450.39 1107.53 1450.39 Z\" fill=\"#000000\" fill-rule=\"nonzero\" fill-opacity=\"1\" /><path clip-path=\"url(#clip850)\" d=\"M1465.96 1451.02 L1488.19 1451.02 L1488.19 1453.01 L1475.64 1485.58 L1470.76 1485.58 L1482.56 1454.96 L1465.96 1454.96 L1465.96 1451.02 Z\" fill=\"#000000\" fill-rule=\"nonzero\" fill-opacity=\"1\" /><path clip-path=\"url(#clip850)\" d=\"M1507.31 1454.1 Q1503.7 1454.1 1501.87 1457.66 Q1500.06 1461.2 1500.06 1468.33 Q1500.06 1475.44 1501.87 1479.01 Q1503.7 1482.55 1507.31 1482.55 Q1510.94 1482.55 1512.75 1479.01 Q1514.57 1475.44 1514.57 1468.33 Q1514.57 1461.2 1512.75 1457.66 Q1510.94 1454.1 1507.31 1454.1 M1507.31 1450.39 Q1513.12 1450.39 1516.17 1455 Q1519.25 1459.58 1519.25 1468.33 Q1519.25 1477.06 1516.17 1481.67 Q1513.12 1486.25 1507.31 1486.25 Q1501.5 1486.25 1498.42 1481.67 Q1495.36 1477.06 1495.36 1468.33 Q1495.36 1459.58 1498.42 1455 Q1501.5 1450.39 1507.31 1450.39 Z\" fill=\"#000000\" fill-rule=\"nonzero\" fill-opacity=\"1\" /><path clip-path=\"url(#clip850)\" d=\"M1877.55 1469.17 Q1874.22 1469.17 1872.29 1470.95 Q1870.4 1472.73 1870.4 1475.86 Q1870.4 1478.98 1872.29 1480.77 Q1874.22 1482.55 1877.55 1482.55 Q1880.88 1482.55 1882.8 1480.77 Q1884.73 1478.96 1884.73 1475.86 Q1884.73 1472.73 1882.8 1470.95 Q1880.91 1469.17 1877.55 1469.17 M1872.87 1467.18 Q1869.86 1466.44 1868.17 1464.38 Q1866.51 1462.32 1866.51 1459.35 Q1866.51 1455.21 1869.45 1452.8 Q1872.41 1450.39 1877.55 1450.39 Q1882.71 1450.39 1885.65 1452.8 Q1888.59 1455.21 1888.59 1459.35 Q1888.59 1462.32 1886.9 1464.38 Q1885.23 1466.44 1882.25 1467.18 Q1885.63 1467.96 1887.5 1470.26 Q1889.4 1472.55 1889.4 1475.86 Q1889.4 1480.88 1886.32 1483.57 Q1883.27 1486.25 1877.55 1486.25 Q1871.83 1486.25 1868.75 1483.57 Q1865.7 1480.88 1865.7 1475.86 Q1865.7 1472.55 1867.6 1470.26 Q1869.49 1467.96 1872.87 1467.18 M1871.16 1459.79 Q1871.16 1462.48 1872.83 1463.98 Q1874.52 1465.49 1877.55 1465.49 Q1880.56 1465.49 1882.25 1463.98 Q1883.96 1462.48 1883.96 1459.79 Q1883.96 1457.11 1882.25 1455.6 Q1880.56 1454.1 1877.55 1454.1 Q1874.52 1454.1 1872.83 1455.6 Q1871.16 1457.11 1871.16 1459.79 Z\" fill=\"#000000\" fill-rule=\"nonzero\" fill-opacity=\"1\" /><path clip-path=\"url(#clip850)\" d=\"M1907.71 1454.1 Q1904.1 1454.1 1902.27 1457.66 Q1900.47 1461.2 1900.47 1468.33 Q1900.47 1475.44 1902.27 1479.01 Q1904.1 1482.55 1907.71 1482.55 Q1911.35 1482.55 1913.15 1479.01 Q1914.98 1475.44 1914.98 1468.33 Q1914.98 1461.2 1913.15 1457.66 Q1911.35 1454.1 1907.71 1454.1 M1907.71 1450.39 Q1913.52 1450.39 1916.58 1455 Q1919.66 1459.58 1919.66 1468.33 Q1919.66 1477.06 1916.58 1481.67 Q1913.52 1486.25 1907.71 1486.25 Q1901.9 1486.25 1898.82 1481.67 Q1895.77 1477.06 1895.77 1468.33 Q1895.77 1459.58 1898.82 1455 Q1901.9 1450.39 1907.71 1450.39 Z\" fill=\"#000000\" fill-rule=\"nonzero\" fill-opacity=\"1\" /><path clip-path=\"url(#clip850)\" d=\"M2267.87 1484.86 L2267.87 1480.6 Q2269.63 1481.44 2271.44 1481.88 Q2273.24 1482.32 2274.98 1482.32 Q2279.61 1482.32 2282.04 1479.21 Q2284.49 1476.09 2284.84 1469.75 Q2283.5 1471.74 2281.44 1472.8 Q2279.38 1473.87 2276.88 1473.87 Q2271.69 1473.87 2268.66 1470.74 Q2265.65 1467.59 2265.65 1462.15 Q2265.65 1456.83 2268.8 1453.61 Q2271.95 1450.39 2277.18 1450.39 Q2283.17 1450.39 2286.32 1455 Q2289.49 1459.58 2289.49 1468.33 Q2289.49 1476.51 2285.6 1481.39 Q2281.74 1486.25 2275.19 1486.25 Q2273.43 1486.25 2271.62 1485.9 Q2269.82 1485.56 2267.87 1484.86 M2277.18 1470.21 Q2280.33 1470.21 2282.16 1468.06 Q2284.01 1465.9 2284.01 1462.15 Q2284.01 1458.43 2282.16 1456.27 Q2280.33 1454.1 2277.18 1454.1 Q2274.03 1454.1 2272.18 1456.27 Q2270.35 1458.43 2270.35 1462.15 Q2270.35 1465.9 2272.18 1468.06 Q2274.03 1470.21 2277.18 1470.21 Z\" fill=\"#000000\" fill-rule=\"nonzero\" fill-opacity=\"1\" /><path clip-path=\"url(#clip850)\" d=\"M2307.9 1454.1 Q2304.28 1454.1 2302.46 1457.66 Q2300.65 1461.2 2300.65 1468.33 Q2300.65 1475.44 2302.46 1479.01 Q2304.28 1482.55 2307.9 1482.55 Q2311.53 1482.55 2313.34 1479.01 Q2315.16 1475.44 2315.16 1468.33 Q2315.16 1461.2 2313.34 1457.66 Q2311.53 1454.1 2307.9 1454.1 M2307.9 1450.39 Q2313.71 1450.39 2316.76 1455 Q2319.84 1459.58 2319.84 1468.33 Q2319.84 1477.06 2316.76 1481.67 Q2313.71 1486.25 2307.9 1486.25 Q2302.09 1486.25 2299.01 1481.67 Q2295.95 1477.06 2295.95 1468.33 Q2295.95 1459.58 2299.01 1455 Q2302.09 1450.39 2307.9 1450.39 Z\" fill=\"#000000\" fill-rule=\"nonzero\" fill-opacity=\"1\" /><path clip-path=\"url(#clip850)\" d=\"M1049.72 1520.52 L1056.15 1520.52 L1056.15 1540 L1079.51 1540 L1079.51 1520.52 L1085.94 1520.52 L1085.94 1568.04 L1079.51 1568.04 L1079.51 1545.41 L1056.15 1545.41 L1056.15 1568.04 L1049.72 1568.04 L1049.72 1520.52 Z\" fill=\"#000000\" fill-rule=\"nonzero\" fill-opacity=\"1\" /><path clip-path=\"url(#clip850)\" d=\"M1128.97 1548.76 L1128.97 1551.62 L1102.05 1551.62 Q1102.43 1557.67 1105.68 1560.85 Q1108.95 1564 1114.78 1564 Q1118.15 1564 1121.3 1563.17 Q1124.49 1562.35 1127.61 1560.69 L1127.61 1566.23 Q1124.45 1567.57 1121.14 1568.27 Q1117.83 1568.97 1114.43 1568.97 Q1105.9 1568.97 1100.9 1564 Q1095.94 1559.04 1095.94 1550.57 Q1095.94 1541.82 1100.65 1536.69 Q1105.39 1531.54 1113.41 1531.54 Q1120.6 1531.54 1124.77 1536.18 Q1128.97 1540.8 1128.97 1548.76 M1123.12 1547.04 Q1123.05 1542.23 1120.41 1539.37 Q1117.8 1536.5 1113.47 1536.5 Q1108.57 1536.5 1105.61 1539.27 Q1102.68 1542.04 1102.24 1547.07 L1123.12 1547.04 Z\" fill=\"#000000\" fill-rule=\"nonzero\" fill-opacity=\"1\" /><path clip-path=\"url(#clip850)\" d=\"M1138.59 1532.4 L1144.44 1532.4 L1144.44 1568.04 L1138.59 1568.04 L1138.59 1532.4 M1138.59 1518.52 L1144.44 1518.52 L1144.44 1525.93 L1138.59 1525.93 L1138.59 1518.52 Z\" fill=\"#000000\" fill-rule=\"nonzero\" fill-opacity=\"1\" /><path clip-path=\"url(#clip850)\" d=\"M1180.15 1549.81 Q1180.15 1543.44 1177.51 1539.94 Q1174.9 1536.44 1170.16 1536.44 Q1165.45 1536.44 1162.81 1539.94 Q1160.2 1543.44 1160.2 1549.81 Q1160.2 1556.14 1162.81 1559.64 Q1165.45 1563.14 1170.16 1563.14 Q1174.9 1563.14 1177.51 1559.64 Q1180.15 1556.14 1180.15 1549.81 M1186.01 1563.62 Q1186.01 1572.72 1181.97 1577.15 Q1177.93 1581.6 1169.59 1581.6 Q1166.5 1581.6 1163.76 1581.13 Q1161.03 1580.68 1158.45 1579.72 L1158.45 1574.03 Q1161.03 1575.43 1163.54 1576.1 Q1166.05 1576.76 1168.66 1576.76 Q1174.43 1576.76 1177.29 1573.74 Q1180.15 1570.75 1180.15 1564.67 L1180.15 1561.77 Q1178.34 1564.92 1175.51 1566.48 Q1172.67 1568.04 1168.73 1568.04 Q1162.17 1568.04 1158.16 1563.05 Q1154.15 1558.05 1154.15 1549.81 Q1154.15 1541.53 1158.16 1536.53 Q1162.17 1531.54 1168.73 1531.54 Q1172.67 1531.54 1175.51 1533.1 Q1178.34 1534.66 1180.15 1537.81 L1180.15 1532.4 L1186.01 1532.4 L1186.01 1563.62 Z\" fill=\"#000000\" fill-rule=\"nonzero\" fill-opacity=\"1\" /><path clip-path=\"url(#clip850)\" d=\"M1227.71 1546.53 L1227.71 1568.04 L1221.85 1568.04 L1221.85 1546.72 Q1221.85 1541.66 1219.88 1539.14 Q1217.9 1536.63 1213.96 1536.63 Q1209.21 1536.63 1206.48 1539.65 Q1203.74 1542.68 1203.74 1547.9 L1203.74 1568.04 L1197.85 1568.04 L1197.85 1518.52 L1203.74 1518.52 L1203.74 1537.93 Q1205.84 1534.72 1208.67 1533.13 Q1211.54 1531.54 1215.26 1531.54 Q1221.4 1531.54 1224.56 1535.36 Q1227.71 1539.14 1227.71 1546.53 Z\" fill=\"#000000\" fill-rule=\"nonzero\" fill-opacity=\"1\" /><path clip-path=\"url(#clip850)\" d=\"M1245.18 1522.27 L1245.18 1532.4 L1257.24 1532.4 L1257.24 1536.95 L1245.18 1536.95 L1245.18 1556.3 Q1245.18 1560.66 1246.36 1561.9 Q1247.57 1563.14 1251.23 1563.14 L1257.24 1563.14 L1257.24 1568.04 L1251.23 1568.04 Q1244.45 1568.04 1241.87 1565.53 Q1239.29 1562.98 1239.29 1556.3 L1239.29 1536.95 L1234.99 1536.95 L1234.99 1532.4 L1239.29 1532.4 L1239.29 1522.27 L1245.18 1522.27 Z\" fill=\"#000000\" fill-rule=\"nonzero\" fill-opacity=\"1\" /><path clip-path=\"url(#clip850)\" d=\"M1299.73 1518.58 Q1295.47 1525.9 1293.4 1533.06 Q1291.33 1540.23 1291.33 1547.58 Q1291.33 1554.93 1293.4 1562.16 Q1295.5 1569.35 1299.73 1576.64 L1294.64 1576.64 Q1289.87 1569.16 1287.48 1561.93 Q1285.12 1554.71 1285.12 1547.58 Q1285.12 1540.48 1287.48 1533.29 Q1289.84 1526.09 1294.64 1518.58 L1299.73 1518.58 Z\" fill=\"#000000\" fill-rule=\"nonzero\" fill-opacity=\"1\" /><path clip-path=\"url(#clip850)\" d=\"M1311.1 1532.4 L1316.95 1532.4 L1316.95 1568.04 L1311.1 1568.04 L1311.1 1532.4 M1311.1 1518.52 L1316.95 1518.52 L1316.95 1525.93 L1311.1 1525.93 L1311.1 1518.52 Z\" fill=\"#000000\" fill-rule=\"nonzero\" fill-opacity=\"1\" /><path clip-path=\"url(#clip850)\" d=\"M1358.84 1546.53 L1358.84 1568.04 L1352.98 1568.04 L1352.98 1546.72 Q1352.98 1541.66 1351.01 1539.14 Q1349.04 1536.63 1345.09 1536.63 Q1340.35 1536.63 1337.61 1539.65 Q1334.87 1542.68 1334.87 1547.9 L1334.87 1568.04 L1328.98 1568.04 L1328.98 1532.4 L1334.87 1532.4 L1334.87 1537.93 Q1336.97 1534.72 1339.81 1533.13 Q1342.67 1531.54 1346.39 1531.54 Q1352.54 1531.54 1355.69 1535.36 Q1358.84 1539.14 1358.84 1546.53 Z\" fill=\"#000000\" fill-rule=\"nonzero\" fill-opacity=\"1\" /><path clip-path=\"url(#clip850)\" d=\"M1396.17 1533.76 L1396.17 1539.24 Q1393.69 1537.87 1391.18 1537.2 Q1388.69 1536.5 1386.15 1536.5 Q1380.45 1536.5 1377.3 1540.13 Q1374.15 1543.73 1374.15 1550.25 Q1374.15 1556.78 1377.3 1560.4 Q1380.45 1564 1386.15 1564 Q1388.69 1564 1391.18 1563.33 Q1393.69 1562.63 1396.17 1561.26 L1396.17 1566.68 Q1393.72 1567.82 1391.08 1568.39 Q1388.47 1568.97 1385.51 1568.97 Q1377.46 1568.97 1372.72 1563.91 Q1367.97 1558.85 1367.97 1550.25 Q1367.97 1541.53 1372.75 1536.53 Q1377.55 1531.54 1385.89 1531.54 Q1388.6 1531.54 1391.18 1532.11 Q1393.76 1532.65 1396.17 1533.76 Z\" fill=\"#000000\" fill-rule=\"nonzero\" fill-opacity=\"1\" /><path clip-path=\"url(#clip850)\" d=\"M1435.99 1546.53 L1435.99 1568.04 L1430.14 1568.04 L1430.14 1546.72 Q1430.14 1541.66 1428.16 1539.14 Q1426.19 1536.63 1422.24 1536.63 Q1417.5 1536.63 1414.76 1539.65 Q1412.03 1542.68 1412.03 1547.9 L1412.03 1568.04 L1406.14 1568.04 L1406.14 1518.52 L1412.03 1518.52 L1412.03 1537.93 Q1414.13 1534.72 1416.96 1533.13 Q1419.82 1531.54 1423.55 1531.54 Q1429.69 1531.54 1432.84 1535.36 Q1435.99 1539.14 1435.99 1546.53 Z\" fill=\"#000000\" fill-rule=\"nonzero\" fill-opacity=\"1\" /><path clip-path=\"url(#clip850)\" d=\"M1478.16 1548.76 L1478.16 1551.62 L1451.24 1551.62 Q1451.62 1557.67 1454.87 1560.85 Q1458.14 1564 1463.97 1564 Q1467.34 1564 1470.49 1563.17 Q1473.68 1562.35 1476.8 1560.69 L1476.8 1566.23 Q1473.65 1567.57 1470.33 1568.27 Q1467.02 1568.97 1463.62 1568.97 Q1455.09 1568.97 1450.09 1564 Q1445.13 1559.04 1445.13 1550.57 Q1445.13 1541.82 1449.84 1536.69 Q1454.58 1531.54 1462.6 1531.54 Q1469.79 1531.54 1473.96 1536.18 Q1478.16 1540.8 1478.16 1548.76 M1472.31 1547.04 Q1472.24 1542.23 1469.6 1539.37 Q1466.99 1536.5 1462.66 1536.5 Q1457.76 1536.5 1454.8 1539.27 Q1451.87 1542.04 1451.43 1547.07 L1472.31 1547.04 Z\" fill=\"#000000\" fill-rule=\"nonzero\" fill-opacity=\"1\" /><path clip-path=\"url(#clip850)\" d=\"M1510.5 1533.45 L1510.5 1538.98 Q1508.02 1537.71 1505.35 1537.07 Q1502.67 1536.44 1499.81 1536.44 Q1495.45 1536.44 1493.25 1537.77 Q1491.09 1539.11 1491.09 1541.79 Q1491.09 1543.82 1492.65 1545 Q1494.21 1546.15 1498.92 1547.2 L1500.92 1547.64 Q1507.16 1548.98 1509.77 1551.43 Q1512.41 1553.85 1512.41 1558.21 Q1512.41 1563.17 1508.47 1566.07 Q1504.55 1568.97 1497.68 1568.97 Q1494.81 1568.97 1491.69 1568.39 Q1488.6 1567.85 1485.17 1566.74 L1485.17 1560.69 Q1488.41 1562.38 1491.56 1563.24 Q1494.72 1564.07 1497.8 1564.07 Q1501.94 1564.07 1504.17 1562.66 Q1506.4 1561.23 1506.4 1558.65 Q1506.4 1556.27 1504.77 1554.99 Q1503.18 1553.72 1497.74 1552.54 L1495.7 1552.07 Q1490.26 1550.92 1487.84 1548.56 Q1485.42 1546.18 1485.42 1542.04 Q1485.42 1537.01 1488.99 1534.27 Q1492.55 1531.54 1499.11 1531.54 Q1502.35 1531.54 1505.22 1532.01 Q1508.08 1532.49 1510.5 1533.45 Z\" fill=\"#000000\" fill-rule=\"nonzero\" fill-opacity=\"1\" /><path clip-path=\"url(#clip850)\" d=\"M1520.82 1518.58 L1525.91 1518.58 Q1530.68 1526.09 1533.04 1533.29 Q1535.42 1540.48 1535.42 1547.58 Q1535.42 1554.71 1533.04 1561.93 Q1530.68 1569.16 1525.91 1576.64 L1520.82 1576.64 Q1525.05 1569.35 1527.12 1562.16 Q1529.22 1554.93 1529.22 1547.58 Q1529.22 1540.23 1527.12 1533.06 Q1525.05 1525.9 1520.82 1518.58 Z\" fill=\"#000000\" fill-rule=\"nonzero\" fill-opacity=\"1\" /><polyline clip-path=\"url(#clip852)\" style=\"stroke:#000000; stroke-linecap:round; stroke-linejoin:round; stroke-width:2; stroke-opacity:0.1; fill:none\" points=\"232.389,1384.24 2352.76,1384.24 \"/>\n",
       "<polyline clip-path=\"url(#clip852)\" style=\"stroke:#000000; stroke-linecap:round; stroke-linejoin:round; stroke-width:2; stroke-opacity:0.1; fill:none\" points=\"232.389,1114.42 2352.76,1114.42 \"/>\n",
       "<polyline clip-path=\"url(#clip852)\" style=\"stroke:#000000; stroke-linecap:round; stroke-linejoin:round; stroke-width:2; stroke-opacity:0.1; fill:none\" points=\"232.389,844.598 2352.76,844.598 \"/>\n",
       "<polyline clip-path=\"url(#clip852)\" style=\"stroke:#000000; stroke-linecap:round; stroke-linejoin:round; stroke-width:2; stroke-opacity:0.1; fill:none\" points=\"232.389,574.778 2352.76,574.778 \"/>\n",
       "<polyline clip-path=\"url(#clip852)\" style=\"stroke:#000000; stroke-linecap:round; stroke-linejoin:round; stroke-width:2; stroke-opacity:0.1; fill:none\" points=\"232.389,304.958 2352.76,304.958 \"/>\n",
       "<polyline clip-path=\"url(#clip850)\" style=\"stroke:#000000; stroke-linecap:round; stroke-linejoin:round; stroke-width:4; stroke-opacity:1; fill:none\" points=\"232.389,1423.18 232.389,47.2441 \"/>\n",
       "<polyline clip-path=\"url(#clip850)\" style=\"stroke:#000000; stroke-linecap:round; stroke-linejoin:round; stroke-width:4; stroke-opacity:1; fill:none\" points=\"232.389,1384.24 251.287,1384.24 \"/>\n",
       "<polyline clip-path=\"url(#clip850)\" style=\"stroke:#000000; stroke-linecap:round; stroke-linejoin:round; stroke-width:4; stroke-opacity:1; fill:none\" points=\"232.389,1114.42 251.287,1114.42 \"/>\n",
       "<polyline clip-path=\"url(#clip850)\" style=\"stroke:#000000; stroke-linecap:round; stroke-linejoin:round; stroke-width:4; stroke-opacity:1; fill:none\" points=\"232.389,844.598 251.287,844.598 \"/>\n",
       "<polyline clip-path=\"url(#clip850)\" style=\"stroke:#000000; stroke-linecap:round; stroke-linejoin:round; stroke-width:4; stroke-opacity:1; fill:none\" points=\"232.389,574.778 251.287,574.778 \"/>\n",
       "<polyline clip-path=\"url(#clip850)\" style=\"stroke:#000000; stroke-linecap:round; stroke-linejoin:round; stroke-width:4; stroke-opacity:1; fill:none\" points=\"232.389,304.958 251.287,304.958 \"/>\n",
       "<path clip-path=\"url(#clip850)\" d=\"M144.098 1366.96 L166.32 1366.96 L166.32 1368.95 L153.774 1401.52 L148.89 1401.52 L160.695 1370.89 L144.098 1370.89 L144.098 1366.96 Z\" fill=\"#000000\" fill-rule=\"nonzero\" fill-opacity=\"1\" /><path clip-path=\"url(#clip850)\" d=\"M175.487 1366.96 L193.843 1366.96 L193.843 1370.89 L179.769 1370.89 L179.769 1379.37 Q180.788 1379.02 181.806 1378.86 Q182.825 1378.67 183.843 1378.67 Q189.63 1378.67 193.01 1381.84 Q196.389 1385.01 196.389 1390.43 Q196.389 1396.01 192.917 1399.11 Q189.445 1402.19 183.126 1402.19 Q180.95 1402.19 178.681 1401.82 Q176.436 1401.45 174.028 1400.71 L174.028 1396.01 Q176.112 1397.14 178.334 1397.7 Q180.556 1398.25 183.033 1398.25 Q187.038 1398.25 189.375 1396.15 Q191.713 1394.04 191.713 1390.43 Q191.713 1386.82 189.375 1384.71 Q187.038 1382.61 183.033 1382.61 Q181.158 1382.61 179.283 1383.02 Q177.431 1383.44 175.487 1384.32 L175.487 1366.96 Z\" fill=\"#000000\" fill-rule=\"nonzero\" fill-opacity=\"1\" /><path clip-path=\"url(#clip850)\" d=\"M114.931 1127.76 L122.57 1127.76 L122.57 1101.4 L114.26 1103.06 L114.26 1098.8 L122.524 1097.14 L127.2 1097.14 L127.2 1127.76 L134.839 1127.76 L134.839 1131.7 L114.931 1131.7 L114.931 1127.76 Z\" fill=\"#000000\" fill-rule=\"nonzero\" fill-opacity=\"1\" /><path clip-path=\"url(#clip850)\" d=\"M154.283 1100.22 Q150.672 1100.22 148.843 1103.78 Q147.038 1107.32 147.038 1114.45 Q147.038 1121.56 148.843 1125.12 Q150.672 1128.67 154.283 1128.67 Q157.917 1128.67 159.723 1125.12 Q161.552 1121.56 161.552 1114.45 Q161.552 1107.32 159.723 1103.78 Q157.917 1100.22 154.283 1100.22 M154.283 1096.51 Q160.093 1096.51 163.149 1101.12 Q166.227 1105.7 166.227 1114.45 Q166.227 1123.18 163.149 1127.79 Q160.093 1132.37 154.283 1132.37 Q148.473 1132.37 145.394 1127.79 Q142.339 1123.18 142.339 1114.45 Q142.339 1105.7 145.394 1101.12 Q148.473 1096.51 154.283 1096.51 Z\" fill=\"#000000\" fill-rule=\"nonzero\" fill-opacity=\"1\" /><path clip-path=\"url(#clip850)\" d=\"M184.445 1100.22 Q180.834 1100.22 179.005 1103.78 Q177.2 1107.32 177.2 1114.45 Q177.2 1121.56 179.005 1125.12 Q180.834 1128.67 184.445 1128.67 Q188.079 1128.67 189.885 1125.12 Q191.713 1121.56 191.713 1114.45 Q191.713 1107.32 189.885 1103.78 Q188.079 1100.22 184.445 1100.22 M184.445 1096.51 Q190.255 1096.51 193.311 1101.12 Q196.389 1105.7 196.389 1114.45 Q196.389 1123.18 193.311 1127.79 Q190.255 1132.37 184.445 1132.37 Q178.635 1132.37 175.556 1127.79 Q172.501 1123.18 172.501 1114.45 Q172.501 1105.7 175.556 1101.12 Q178.635 1096.51 184.445 1096.51 Z\" fill=\"#000000\" fill-rule=\"nonzero\" fill-opacity=\"1\" /><path clip-path=\"url(#clip850)\" d=\"M115.927 857.943 L123.566 857.943 L123.566 831.577 L115.256 833.244 L115.256 828.985 L123.519 827.318 L128.195 827.318 L128.195 857.943 L135.834 857.943 L135.834 861.878 L115.927 861.878 L115.927 857.943 Z\" fill=\"#000000\" fill-rule=\"nonzero\" fill-opacity=\"1\" /><path clip-path=\"url(#clip850)\" d=\"M149.306 857.943 L165.626 857.943 L165.626 861.878 L143.681 861.878 L143.681 857.943 Q146.343 855.188 150.927 850.559 Q155.533 845.906 156.714 844.563 Q158.959 842.04 159.839 840.304 Q160.741 838.545 160.741 836.855 Q160.741 834.1 158.797 832.364 Q156.876 830.628 153.774 830.628 Q151.575 830.628 149.121 831.392 Q146.691 832.156 143.913 833.707 L143.913 828.985 Q146.737 827.85 149.191 827.272 Q151.644 826.693 153.681 826.693 Q159.052 826.693 162.246 829.378 Q165.44 832.063 165.44 836.554 Q165.44 838.684 164.63 840.605 Q163.843 842.503 161.737 845.096 Q161.158 845.767 158.056 848.985 Q154.954 852.179 149.306 857.943 Z\" fill=\"#000000\" fill-rule=\"nonzero\" fill-opacity=\"1\" /><path clip-path=\"url(#clip850)\" d=\"M175.487 827.318 L193.843 827.318 L193.843 831.253 L179.769 831.253 L179.769 839.725 Q180.788 839.378 181.806 839.216 Q182.825 839.031 183.843 839.031 Q189.63 839.031 193.01 842.202 Q196.389 845.373 196.389 850.79 Q196.389 856.369 192.917 859.471 Q189.445 862.549 183.126 862.549 Q180.95 862.549 178.681 862.179 Q176.436 861.809 174.028 861.068 L174.028 856.369 Q176.112 857.503 178.334 858.059 Q180.556 858.614 183.033 858.614 Q187.038 858.614 189.375 856.508 Q191.713 854.401 191.713 850.79 Q191.713 847.179 189.375 845.073 Q187.038 842.966 183.033 842.966 Q181.158 842.966 179.283 843.383 Q177.431 843.799 175.487 844.679 L175.487 827.318 Z\" fill=\"#000000\" fill-rule=\"nonzero\" fill-opacity=\"1\" /><path clip-path=\"url(#clip850)\" d=\"M114.931 588.123 L122.57 588.123 L122.57 561.757 L114.26 563.424 L114.26 559.165 L122.524 557.498 L127.2 557.498 L127.2 588.123 L134.839 588.123 L134.839 592.058 L114.931 592.058 L114.931 588.123 Z\" fill=\"#000000\" fill-rule=\"nonzero\" fill-opacity=\"1\" /><path clip-path=\"url(#clip850)\" d=\"M144.329 557.498 L162.686 557.498 L162.686 561.433 L148.612 561.433 L148.612 569.905 Q149.63 569.558 150.649 569.396 Q151.667 569.211 152.686 569.211 Q158.473 569.211 161.852 572.382 Q165.232 575.553 165.232 580.97 Q165.232 586.549 161.76 589.65 Q158.288 592.729 151.968 592.729 Q149.792 592.729 147.524 592.359 Q145.279 591.988 142.871 591.248 L142.871 586.549 Q144.954 587.683 147.177 588.238 Q149.399 588.794 151.876 588.794 Q155.88 588.794 158.218 586.688 Q160.556 584.581 160.556 580.97 Q160.556 577.359 158.218 575.252 Q155.88 573.146 151.876 573.146 Q150.001 573.146 148.126 573.563 Q146.274 573.979 144.329 574.859 L144.329 557.498 Z\" fill=\"#000000\" fill-rule=\"nonzero\" fill-opacity=\"1\" /><path clip-path=\"url(#clip850)\" d=\"M184.445 560.577 Q180.834 560.577 179.005 564.141 Q177.2 567.683 177.2 574.813 Q177.2 581.919 179.005 585.484 Q180.834 589.025 184.445 589.025 Q188.079 589.025 189.885 585.484 Q191.713 581.919 191.713 574.813 Q191.713 567.683 189.885 564.141 Q188.079 560.577 184.445 560.577 M184.445 556.873 Q190.255 556.873 193.311 561.479 Q196.389 566.063 196.389 574.813 Q196.389 583.539 193.311 588.146 Q190.255 592.729 184.445 592.729 Q178.635 592.729 175.556 588.146 Q172.501 583.539 172.501 574.813 Q172.501 566.063 175.556 561.479 Q178.635 556.873 184.445 556.873 Z\" fill=\"#000000\" fill-rule=\"nonzero\" fill-opacity=\"1\" /><path clip-path=\"url(#clip850)\" d=\"M115.927 318.303 L123.566 318.303 L123.566 291.937 L115.256 293.604 L115.256 289.344 L123.519 287.678 L128.195 287.678 L128.195 318.303 L135.834 318.303 L135.834 322.238 L115.927 322.238 L115.927 318.303 Z\" fill=\"#000000\" fill-rule=\"nonzero\" fill-opacity=\"1\" /><path clip-path=\"url(#clip850)\" d=\"M144.098 287.678 L166.32 287.678 L166.32 289.668 L153.774 322.238 L148.89 322.238 L160.695 291.613 L144.098 291.613 L144.098 287.678 Z\" fill=\"#000000\" fill-rule=\"nonzero\" fill-opacity=\"1\" /><path clip-path=\"url(#clip850)\" d=\"M175.487 287.678 L193.843 287.678 L193.843 291.613 L179.769 291.613 L179.769 300.085 Q180.788 299.738 181.806 299.576 Q182.825 299.391 183.843 299.391 Q189.63 299.391 193.01 302.562 Q196.389 305.733 196.389 311.15 Q196.389 316.728 192.917 319.83 Q189.445 322.909 183.126 322.909 Q180.95 322.909 178.681 322.539 Q176.436 322.168 174.028 321.428 L174.028 316.728 Q176.112 317.863 178.334 318.418 Q180.556 318.974 183.033 318.974 Q187.038 318.974 189.375 316.867 Q191.713 314.761 191.713 311.15 Q191.713 307.539 189.375 305.432 Q187.038 303.326 183.033 303.326 Q181.158 303.326 179.283 303.742 Q177.431 304.159 175.487 305.039 L175.487 287.678 Z\" fill=\"#000000\" fill-rule=\"nonzero\" fill-opacity=\"1\" /><path clip-path=\"url(#clip850)\" d=\"M41.3104 986.689 L58.7206 986.689 L58.7206 976.377 Q58.7206 971.189 56.5881 968.706 Q54.4238 966.192 49.9996 966.192 Q45.5436 966.192 43.4429 968.706 Q41.3104 971.189 41.3104 976.377 L41.3104 986.689 M21.7677 986.689 L36.0905 986.689 L36.0905 977.172 Q36.0905 972.462 34.34 970.17 Q32.5576 967.847 28.9291 967.847 Q25.3325 967.847 23.5501 970.17 Q21.7677 972.462 21.7677 977.172 L21.7677 986.689 M16.4842 993.119 L16.4842 976.695 Q16.4842 969.343 19.5397 965.364 Q22.5952 961.386 28.2289 961.386 Q32.5894 961.386 35.1675 963.423 Q37.7456 965.46 38.3822 969.406 Q39.4007 964.664 42.6472 962.054 Q45.8619 959.412 50.6998 959.412 Q57.0655 959.412 60.5348 963.741 Q64.0042 968.07 64.0042 976.058 L64.0042 993.119 L16.4842 993.119 Z\" fill=\"#000000\" fill-rule=\"nonzero\" fill-opacity=\"1\" /><path clip-path=\"url(#clip850)\" d=\"M46.0847 932.453 Q46.0847 939.551 47.7079 942.288 Q49.3312 945.026 53.2461 945.026 Q56.3653 945.026 58.2114 942.989 Q60.0256 940.92 60.0256 937.387 Q60.0256 932.517 56.5881 929.589 Q53.1188 926.629 47.3897 926.629 L46.0847 926.629 L46.0847 932.453 M43.6657 920.772 L64.0042 920.772 L64.0042 926.629 L58.5933 926.629 Q61.8398 928.634 63.3994 931.626 Q64.9272 934.618 64.9272 938.946 Q64.9272 944.421 61.8716 947.667 Q58.7843 950.882 53.6281 950.882 Q47.6125 950.882 44.5569 946.872 Q41.5014 942.829 41.5014 934.841 L41.5014 926.629 L40.9285 926.629 Q36.8862 926.629 34.6901 929.302 Q32.4621 931.944 32.4621 936.75 Q32.4621 939.806 33.1941 942.702 Q33.9262 945.599 35.3903 948.272 L29.9795 948.272 Q28.7381 945.057 28.1334 942.034 Q27.4968 939.01 27.4968 936.145 Q27.4968 928.411 31.5072 924.592 Q35.5176 920.772 43.6657 920.772 Z\" fill=\"#000000\" fill-rule=\"nonzero\" fill-opacity=\"1\" /><path clip-path=\"url(#clip850)\" d=\"M29.4065 885.984 L34.9447 885.984 Q33.6716 888.466 33.035 891.14 Q32.3984 893.814 32.3984 896.678 Q32.3984 901.039 33.7352 903.235 Q35.072 905.399 37.7456 905.399 Q39.7826 905.399 40.9603 903.84 Q42.1061 902.28 43.1565 897.569 L43.6021 895.564 Q44.9389 889.326 47.3897 886.716 Q49.8086 884.074 54.1691 884.074 Q59.1344 884.074 62.0308 888.021 Q64.9272 891.936 64.9272 898.811 Q64.9272 901.675 64.3543 904.794 Q63.8132 907.882 62.6992 911.319 L56.6518 911.319 Q58.3387 908.073 59.198 904.922 Q60.0256 901.771 60.0256 898.683 Q60.0256 894.546 58.6251 892.318 Q57.1929 890.09 54.6147 890.09 Q52.2276 890.09 50.9545 891.713 Q49.6813 893.304 48.5037 898.747 L48.0262 900.784 Q46.8804 906.227 44.5251 908.646 Q42.138 911.065 38.0002 911.065 Q32.9713 911.065 30.2341 907.5 Q27.4968 903.935 27.4968 897.378 Q27.4968 894.132 27.9743 891.267 Q28.4517 888.403 29.4065 885.984 Z\" fill=\"#000000\" fill-rule=\"nonzero\" fill-opacity=\"1\" /><path clip-path=\"url(#clip850)\" d=\"M14.479 874.971 L14.479 869.083 L43.7294 869.083 L28.3562 851.609 L28.3562 844.129 L45.0344 863.035 L64.0042 843.333 L64.0042 850.972 L46.5939 869.083 L64.0042 869.083 L64.0042 874.971 L14.479 874.971 Z\" fill=\"#000000\" fill-rule=\"nonzero\" fill-opacity=\"1\" /><path clip-path=\"url(#clip850)\" d=\"M44.7161 808.831 L47.5806 808.831 L47.5806 835.758 Q53.6281 835.376 56.8109 832.13 Q59.9619 828.852 59.9619 823.027 Q59.9619 819.653 59.1344 816.502 Q58.3069 813.319 56.6518 810.2 L62.1899 810.2 Q63.5267 813.351 64.227 816.661 Q64.9272 819.971 64.9272 823.377 Q64.9272 831.907 59.9619 836.904 Q54.9967 841.869 46.5303 841.869 Q37.7774 841.869 32.6531 837.159 Q27.4968 832.416 27.4968 824.396 Q27.4968 817.202 32.1438 813.033 Q36.7589 808.831 44.7161 808.831 M42.9973 814.688 Q38.1912 814.751 35.3266 817.393 Q32.4621 820.003 32.4621 824.332 Q32.4621 829.233 35.2312 832.194 Q38.0002 835.122 43.0292 835.567 L42.9973 814.688 Z\" fill=\"#000000\" fill-rule=\"nonzero\" fill-opacity=\"1\" /><path clip-path=\"url(#clip850)\" d=\"M18.2347 793.426 L28.3562 793.426 L28.3562 781.363 L32.9077 781.363 L32.9077 793.426 L52.2594 793.426 Q56.6199 793.426 57.8613 792.249 Q59.1026 791.039 59.1026 787.379 L59.1026 781.363 L64.0042 781.363 L64.0042 787.379 Q64.0042 794.158 61.4897 796.737 Q58.9434 799.315 52.2594 799.315 L32.9077 799.315 L32.9077 803.611 L28.3562 803.611 L28.3562 799.315 L18.2347 799.315 L18.2347 793.426 Z\" fill=\"#000000\" fill-rule=\"nonzero\" fill-opacity=\"1\" /><path clip-path=\"url(#clip850)\" d=\"M46.212 748.071 Q39.7508 748.071 36.0905 750.744 Q32.3984 753.386 32.3984 758.033 Q32.3984 762.68 36.0905 765.354 Q39.7508 767.995 46.212 767.995 Q52.6732 767.995 56.3653 765.354 Q60.0256 762.68 60.0256 758.033 Q60.0256 753.386 56.3653 750.744 Q52.6732 748.071 46.212 748.071 M33.7671 767.995 Q30.5842 766.149 29.0564 763.348 Q27.4968 760.516 27.4968 756.601 Q27.4968 750.108 32.6531 746.065 Q37.8093 741.991 46.212 741.991 Q54.6147 741.991 59.771 746.065 Q64.9272 750.108 64.9272 756.601 Q64.9272 760.516 63.3994 763.348 Q61.8398 766.149 58.657 767.995 L64.0042 767.995 L64.0042 773.884 L14.479 773.884 L14.479 767.995 L33.7671 767.995 Z\" fill=\"#000000\" fill-rule=\"nonzero\" fill-opacity=\"1\" /><path clip-path=\"url(#clip850)\" d=\"M46.0847 716.083 Q46.0847 723.181 47.7079 725.918 Q49.3312 728.655 53.2461 728.655 Q56.3653 728.655 58.2114 726.618 Q60.0256 724.549 60.0256 721.016 Q60.0256 716.147 56.5881 713.218 Q53.1188 710.258 47.3897 710.258 L46.0847 710.258 L46.0847 716.083 M43.6657 704.402 L64.0042 704.402 L64.0042 710.258 L58.5933 710.258 Q61.8398 712.264 63.3994 715.255 Q64.9272 718.247 64.9272 722.576 Q64.9272 728.051 61.8716 731.297 Q58.7843 734.512 53.6281 734.512 Q47.6125 734.512 44.5569 730.501 Q41.5014 726.459 41.5014 718.47 L41.5014 710.258 L40.9285 710.258 Q36.8862 710.258 34.6901 712.932 Q32.4621 715.574 32.4621 720.38 Q32.4621 723.435 33.1941 726.332 Q33.9262 729.228 35.3903 731.902 L29.9795 731.902 Q28.7381 728.687 28.1334 725.663 Q27.4968 722.64 27.4968 719.775 Q27.4968 712.041 31.5072 708.221 Q35.5176 704.402 43.6657 704.402 Z\" fill=\"#000000\" fill-rule=\"nonzero\" fill-opacity=\"1\" /><path clip-path=\"url(#clip850)\" d=\"M14.479 692.339 L14.479 686.482 L64.0042 686.482 L64.0042 692.339 L14.479 692.339 Z\" fill=\"#000000\" fill-rule=\"nonzero\" fill-opacity=\"1\" /><path clip-path=\"url(#clip850)\" d=\"M14.479 674.228 L14.479 668.372 L64.0042 668.372 L64.0042 674.228 L14.479 674.228 Z\" fill=\"#000000\" fill-rule=\"nonzero\" fill-opacity=\"1\" /><path clip-path=\"url(#clip850)\" d=\"M18.0438 606.657 L24.314 606.657 Q22.5634 610.317 21.704 613.563 Q20.8447 616.81 20.8447 619.834 Q20.8447 625.085 22.8817 627.95 Q24.9187 630.783 28.6745 630.783 Q31.8255 630.783 33.4488 628.905 Q35.0402 626.995 36.0269 621.711 L36.8226 617.828 Q38.1912 610.635 41.6605 607.229 Q45.098 603.792 50.8908 603.792 Q57.7976 603.792 61.3624 608.439 Q64.9272 613.054 64.9272 621.998 Q64.9272 625.372 64.1633 629.191 Q63.3994 632.979 61.9035 637.053 L55.2831 637.053 Q57.4793 633.138 58.5933 629.382 Q59.7073 625.626 59.7073 621.998 Q59.7073 616.492 57.543 613.5 Q55.3786 610.508 51.3682 610.508 Q47.8671 610.508 45.8937 612.672 Q43.9204 614.805 42.9337 619.706 L42.1698 623.621 Q40.7375 630.814 37.682 634.029 Q34.6264 637.244 29.1837 637.244 Q22.8817 637.244 19.2532 632.82 Q15.6248 628.364 15.6248 620.566 Q15.6248 617.224 16.2295 613.754 Q16.8343 610.285 18.0438 606.657 Z\" fill=\"#000000\" fill-rule=\"nonzero\" fill-opacity=\"1\" /><path clip-path=\"url(#clip850)\" d=\"M14.479 594.243 L14.479 588.355 L43.7294 588.355 L28.3562 570.881 L28.3562 563.402 L45.0344 582.308 L64.0042 562.606 L64.0042 570.245 L46.5939 588.355 L64.0042 588.355 L64.0042 594.243 L14.479 594.243 Z\" fill=\"#000000\" fill-rule=\"nonzero\" fill-opacity=\"1\" /><path clip-path=\"url(#clip850)\" d=\"M28.3562 556.272 L28.3562 550.416 L64.0042 550.416 L64.0042 556.272 L28.3562 556.272 M14.479 556.272 L14.479 550.416 L21.895 550.416 L21.895 556.272 L14.479 556.272 Z\" fill=\"#000000\" fill-rule=\"nonzero\" fill-opacity=\"1\" /><path clip-path=\"url(#clip850)\" d=\"M14.479 538.162 L14.479 532.305 L64.0042 532.305 L64.0042 538.162 L14.479 538.162 Z\" fill=\"#000000\" fill-rule=\"nonzero\" fill-opacity=\"1\" /><path clip-path=\"url(#clip850)\" d=\"M14.479 520.051 L14.479 514.195 L64.0042 514.195 L64.0042 520.051 L14.479 520.051 Z\" fill=\"#000000\" fill-rule=\"nonzero\" fill-opacity=\"1\" /><path clip-path=\"url(#clip850)\" d=\"M29.4065 479.215 L34.9447 479.215 Q33.6716 481.698 33.035 484.371 Q32.3984 487.045 32.3984 489.909 Q32.3984 494.27 33.7352 496.466 Q35.072 498.63 37.7456 498.63 Q39.7826 498.63 40.9603 497.071 Q42.1061 495.511 43.1565 490.801 L43.6021 488.795 Q44.9389 482.557 47.3897 479.947 Q49.8086 477.305 54.1691 477.305 Q59.1344 477.305 62.0308 481.252 Q64.9272 485.167 64.9272 492.042 Q64.9272 494.907 64.3543 498.026 Q63.8132 501.113 62.6992 504.551 L56.6518 504.551 Q58.3387 501.304 59.198 498.153 Q60.0256 495.002 60.0256 491.915 Q60.0256 487.777 58.6251 485.549 Q57.1929 483.321 54.6147 483.321 Q52.2276 483.321 50.9545 484.944 Q49.6813 486.536 48.5037 491.978 L48.0262 494.015 Q46.8804 499.458 44.5251 501.877 Q42.138 504.296 38.0002 504.296 Q32.9713 504.296 30.2341 500.731 Q27.4968 497.166 27.4968 490.61 Q27.4968 487.363 27.9743 484.499 Q28.4517 481.634 29.4065 479.215 Z\" fill=\"#000000\" fill-rule=\"nonzero\" fill-opacity=\"1\" /><circle clip-path=\"url(#clip852)\" cx=\"1452.6\" cy=\"581.963\" r=\"10.8\" fill=\"#000000\" fill-rule=\"evenodd\" fill-opacity=\"1\" stroke=\"none\"/>\n",
       "<circle clip-path=\"url(#clip852)\" cx=\"1732.65\" cy=\"434.347\" r=\"10.8\" fill=\"#000000\" fill-rule=\"evenodd\" fill-opacity=\"1\" stroke=\"none\"/>\n",
       "<circle clip-path=\"url(#clip852)\" cx=\"1612.63\" cy=\"521.944\" r=\"10.8\" fill=\"#000000\" fill-rule=\"evenodd\" fill-opacity=\"1\" stroke=\"none\"/>\n",
       "<circle clip-path=\"url(#clip852)\" cx=\"1372.59\" cy=\"703.147\" r=\"10.8\" fill=\"#000000\" fill-rule=\"evenodd\" fill-opacity=\"1\" stroke=\"none\"/>\n",
       "<circle clip-path=\"url(#clip852)\" cx=\"892.503\" cy=\"760.124\" r=\"10.8\" fill=\"#000000\" fill-rule=\"evenodd\" fill-opacity=\"1\" stroke=\"none\"/>\n",
       "<circle clip-path=\"url(#clip852)\" cx=\"1892.68\" cy=\"380.736\" r=\"10.8\" fill=\"#000000\" fill-rule=\"evenodd\" fill-opacity=\"1\" stroke=\"none\"/>\n",
       "<circle clip-path=\"url(#clip852)\" cx=\"1412.59\" cy=\"652.822\" r=\"10.8\" fill=\"#000000\" fill-rule=\"evenodd\" fill-opacity=\"1\" stroke=\"none\"/>\n",
       "<circle clip-path=\"url(#clip852)\" cx=\"1572.62\" cy=\"473.238\" r=\"10.8\" fill=\"#000000\" fill-rule=\"evenodd\" fill-opacity=\"1\" stroke=\"none\"/>\n",
       "<circle clip-path=\"url(#clip852)\" cx=\"412.42\" cy=\"1050.48\" r=\"10.8\" fill=\"#000000\" fill-rule=\"evenodd\" fill-opacity=\"1\" stroke=\"none\"/>\n",
       "<circle clip-path=\"url(#clip852)\" cx=\"1572.62\" cy=\"414.986\" r=\"10.8\" fill=\"#000000\" fill-rule=\"evenodd\" fill-opacity=\"1\" stroke=\"none\"/>\n",
       "<circle clip-path=\"url(#clip852)\" cx=\"2052.7\" cy=\"400.882\" r=\"10.8\" fill=\"#000000\" fill-rule=\"evenodd\" fill-opacity=\"1\" stroke=\"none\"/>\n",
       "<circle clip-path=\"url(#clip852)\" cx=\"1852.67\" cy=\"491.337\" r=\"10.8\" fill=\"#000000\" fill-rule=\"evenodd\" fill-opacity=\"1\" stroke=\"none\"/>\n",
       "<circle clip-path=\"url(#clip852)\" cx=\"612.455\" cy=\"1117.2\" r=\"10.8\" fill=\"#000000\" fill-rule=\"evenodd\" fill-opacity=\"1\" stroke=\"none\"/>\n",
       "<circle clip-path=\"url(#clip852)\" cx=\"1372.59\" cy=\"541.747\" r=\"10.8\" fill=\"#000000\" fill-rule=\"evenodd\" fill-opacity=\"1\" stroke=\"none\"/>\n",
       "<circle clip-path=\"url(#clip852)\" cx=\"852.497\" cy=\"1021.45\" r=\"10.8\" fill=\"#000000\" fill-rule=\"evenodd\" fill-opacity=\"1\" stroke=\"none\"/>\n",
       "<circle clip-path=\"url(#clip852)\" cx=\"612.455\" cy=\"985.703\" r=\"10.8\" fill=\"#000000\" fill-rule=\"evenodd\" fill-opacity=\"1\" stroke=\"none\"/>\n",
       "<circle clip-path=\"url(#clip852)\" cx=\"1652.63\" cy=\"589.253\" r=\"10.8\" fill=\"#000000\" fill-rule=\"evenodd\" fill-opacity=\"1\" stroke=\"none\"/>\n",
       "<circle clip-path=\"url(#clip852)\" cx=\"532.441\" cy=\"1114.5\" r=\"10.8\" fill=\"#000000\" fill-rule=\"evenodd\" fill-opacity=\"1\" stroke=\"none\"/>\n",
       "<circle clip-path=\"url(#clip852)\" cx=\"1092.54\" cy=\"794.403\" r=\"10.8\" fill=\"#000000\" fill-rule=\"evenodd\" fill-opacity=\"1\" stroke=\"none\"/>\n",
       "<circle clip-path=\"url(#clip852)\" cx=\"1972.69\" cy=\"326.205\" r=\"10.8\" fill=\"#000000\" fill-rule=\"evenodd\" fill-opacity=\"1\" stroke=\"none\"/>\n",
       "<circle clip-path=\"url(#clip852)\" cx=\"2092.71\" cy=\"184.951\" r=\"10.8\" fill=\"#000000\" fill-rule=\"evenodd\" fill-opacity=\"1\" stroke=\"none\"/>\n",
       "<circle clip-path=\"url(#clip852)\" cx=\"1652.63\" cy=\"486.55\" r=\"10.8\" fill=\"#000000\" fill-rule=\"evenodd\" fill-opacity=\"1\" stroke=\"none\"/>\n",
       "<circle clip-path=\"url(#clip852)\" cx=\"852.497\" cy=\"985.931\" r=\"10.8\" fill=\"#000000\" fill-rule=\"evenodd\" fill-opacity=\"1\" stroke=\"none\"/>\n",
       "<circle clip-path=\"url(#clip852)\" cx=\"2252.74\" cy=\"243.984\" r=\"10.8\" fill=\"#000000\" fill-rule=\"evenodd\" fill-opacity=\"1\" stroke=\"none\"/>\n",
       "<circle clip-path=\"url(#clip852)\" cx=\"1252.57\" cy=\"694.432\" r=\"10.8\" fill=\"#000000\" fill-rule=\"evenodd\" fill-opacity=\"1\" stroke=\"none\"/>\n",
       "<circle clip-path=\"url(#clip852)\" cx=\"1372.59\" cy=\"702.037\" r=\"10.8\" fill=\"#000000\" fill-rule=\"evenodd\" fill-opacity=\"1\" stroke=\"none\"/>\n",
       "<circle clip-path=\"url(#clip852)\" cx=\"492.434\" cy=\"1023.15\" r=\"10.8\" fill=\"#000000\" fill-rule=\"evenodd\" fill-opacity=\"1\" stroke=\"none\"/>\n",
       "<circle clip-path=\"url(#clip852)\" cx=\"1732.65\" cy=\"412.678\" r=\"10.8\" fill=\"#000000\" fill-rule=\"evenodd\" fill-opacity=\"1\" stroke=\"none\"/>\n",
       "<circle clip-path=\"url(#clip852)\" cx=\"1372.59\" cy=\"636.272\" r=\"10.8\" fill=\"#000000\" fill-rule=\"evenodd\" fill-opacity=\"1\" stroke=\"none\"/>\n",
       "<circle clip-path=\"url(#clip852)\" cx=\"292.4\" cy=\"1257.34\" r=\"10.8\" fill=\"#000000\" fill-rule=\"evenodd\" fill-opacity=\"1\" stroke=\"none\"/>\n",
       "<circle clip-path=\"url(#clip852)\" cx=\"1532.61\" cy=\"474.124\" r=\"10.8\" fill=\"#000000\" fill-rule=\"evenodd\" fill-opacity=\"1\" stroke=\"none\"/>\n",
       "<circle clip-path=\"url(#clip852)\" cx=\"1572.62\" cy=\"618.174\" r=\"10.8\" fill=\"#000000\" fill-rule=\"evenodd\" fill-opacity=\"1\" stroke=\"none\"/>\n",
       "<circle clip-path=\"url(#clip852)\" cx=\"2252.74\" cy=\"121.889\" r=\"10.8\" fill=\"#000000\" fill-rule=\"evenodd\" fill-opacity=\"1\" stroke=\"none\"/>\n",
       "<circle clip-path=\"url(#clip852)\" cx=\"1132.54\" cy=\"861.801\" r=\"10.8\" fill=\"#000000\" fill-rule=\"evenodd\" fill-opacity=\"1\" stroke=\"none\"/>\n",
       "<circle clip-path=\"url(#clip852)\" cx=\"1052.53\" cy=\"879.659\" r=\"10.8\" fill=\"#000000\" fill-rule=\"evenodd\" fill-opacity=\"1\" stroke=\"none\"/>\n",
       "<circle clip-path=\"url(#clip852)\" cx=\"412.42\" cy=\"1028.4\" r=\"10.8\" fill=\"#000000\" fill-rule=\"evenodd\" fill-opacity=\"1\" stroke=\"none\"/>\n",
       "<circle clip-path=\"url(#clip852)\" cx=\"1132.54\" cy=\"783.2\" r=\"10.8\" fill=\"#000000\" fill-rule=\"evenodd\" fill-opacity=\"1\" stroke=\"none\"/>\n",
       "<circle clip-path=\"url(#clip852)\" cx=\"972.517\" cy=\"715.077\" r=\"10.8\" fill=\"#000000\" fill-rule=\"evenodd\" fill-opacity=\"1\" stroke=\"none\"/>\n",
       "<circle clip-path=\"url(#clip852)\" cx=\"412.42\" cy=\"1190.14\" r=\"10.8\" fill=\"#000000\" fill-rule=\"evenodd\" fill-opacity=\"1\" stroke=\"none\"/>\n",
       "<circle clip-path=\"url(#clip852)\" cx=\"732.476\" cy=\"1044.89\" r=\"10.8\" fill=\"#000000\" fill-rule=\"evenodd\" fill-opacity=\"1\" stroke=\"none\"/>\n",
       "<circle clip-path=\"url(#clip852)\" cx=\"2132.72\" cy=\"220.559\" r=\"10.8\" fill=\"#000000\" fill-rule=\"evenodd\" fill-opacity=\"1\" stroke=\"none\"/>\n",
       "<circle clip-path=\"url(#clip852)\" cx=\"1172.55\" cy=\"798.699\" r=\"10.8\" fill=\"#000000\" fill-rule=\"evenodd\" fill-opacity=\"1\" stroke=\"none\"/>\n",
       "<circle clip-path=\"url(#clip852)\" cx=\"1692.64\" cy=\"525.026\" r=\"10.8\" fill=\"#000000\" fill-rule=\"evenodd\" fill-opacity=\"1\" stroke=\"none\"/>\n",
       "<circle clip-path=\"url(#clip852)\" cx=\"612.455\" cy=\"1018.46\" r=\"10.8\" fill=\"#000000\" fill-rule=\"evenodd\" fill-opacity=\"1\" stroke=\"none\"/>\n",
       "<circle clip-path=\"url(#clip852)\" cx=\"1892.68\" cy=\"465.211\" r=\"10.8\" fill=\"#000000\" fill-rule=\"evenodd\" fill-opacity=\"1\" stroke=\"none\"/>\n",
       "<circle clip-path=\"url(#clip852)\" cx=\"892.503\" cy=\"864.253\" r=\"10.8\" fill=\"#000000\" fill-rule=\"evenodd\" fill-opacity=\"1\" stroke=\"none\"/>\n",
       "<circle clip-path=\"url(#clip852)\" cx=\"1332.58\" cy=\"646.414\" r=\"10.8\" fill=\"#000000\" fill-rule=\"evenodd\" fill-opacity=\"1\" stroke=\"none\"/>\n",
       "<circle clip-path=\"url(#clip852)\" cx=\"1212.56\" cy=\"886.085\" r=\"10.8\" fill=\"#000000\" fill-rule=\"evenodd\" fill-opacity=\"1\" stroke=\"none\"/>\n",
       "<circle clip-path=\"url(#clip852)\" cx=\"1012.52\" cy=\"773.17\" r=\"10.8\" fill=\"#000000\" fill-rule=\"evenodd\" fill-opacity=\"1\" stroke=\"none\"/>\n",
       "<circle clip-path=\"url(#clip852)\" cx=\"452.427\" cy=\"1081.14\" r=\"10.8\" fill=\"#000000\" fill-rule=\"evenodd\" fill-opacity=\"1\" stroke=\"none\"/>\n",
       "<circle clip-path=\"url(#clip852)\" cx=\"332.407\" cy=\"1174.14\" r=\"10.8\" fill=\"#000000\" fill-rule=\"evenodd\" fill-opacity=\"1\" stroke=\"none\"/>\n",
       "<circle clip-path=\"url(#clip852)\" cx=\"1172.55\" cy=\"738.486\" r=\"10.8\" fill=\"#000000\" fill-rule=\"evenodd\" fill-opacity=\"1\" stroke=\"none\"/>\n",
       "<circle clip-path=\"url(#clip852)\" cx=\"332.407\" cy=\"1348.63\" r=\"10.8\" fill=\"#000000\" fill-rule=\"evenodd\" fill-opacity=\"1\" stroke=\"none\"/>\n",
       "<circle clip-path=\"url(#clip852)\" cx=\"532.441\" cy=\"1115.91\" r=\"10.8\" fill=\"#000000\" fill-rule=\"evenodd\" fill-opacity=\"1\" stroke=\"none\"/>\n",
       "<circle clip-path=\"url(#clip852)\" cx=\"2172.72\" cy=\"392.45\" r=\"10.8\" fill=\"#000000\" fill-rule=\"evenodd\" fill-opacity=\"1\" stroke=\"none\"/>\n",
       "<circle clip-path=\"url(#clip852)\" cx=\"2212.73\" cy=\"114.521\" r=\"10.8\" fill=\"#000000\" fill-rule=\"evenodd\" fill-opacity=\"1\" stroke=\"none\"/>\n",
       "<circle clip-path=\"url(#clip852)\" cx=\"612.455\" cy=\"965.562\" r=\"10.8\" fill=\"#000000\" fill-rule=\"evenodd\" fill-opacity=\"1\" stroke=\"none\"/>\n",
       "<circle clip-path=\"url(#clip852)\" cx=\"692.469\" cy=\"1103.25\" r=\"10.8\" fill=\"#000000\" fill-rule=\"evenodd\" fill-opacity=\"1\" stroke=\"none\"/>\n",
       "<circle clip-path=\"url(#clip852)\" cx=\"2012.7\" cy=\"337.251\" r=\"10.8\" fill=\"#000000\" fill-rule=\"evenodd\" fill-opacity=\"1\" stroke=\"none\"/>\n",
       "<circle clip-path=\"url(#clip852)\" cx=\"2252.74\" cy=\"86.1857\" r=\"10.8\" fill=\"#000000\" fill-rule=\"evenodd\" fill-opacity=\"1\" stroke=\"none\"/>\n",
       "<circle clip-path=\"url(#clip852)\" cx=\"1692.64\" cy=\"333.947\" r=\"10.8\" fill=\"#000000\" fill-rule=\"evenodd\" fill-opacity=\"1\" stroke=\"none\"/>\n",
       "<circle clip-path=\"url(#clip852)\" cx=\"1932.68\" cy=\"347.054\" r=\"10.8\" fill=\"#000000\" fill-rule=\"evenodd\" fill-opacity=\"1\" stroke=\"none\"/>\n",
       "<circle clip-path=\"url(#clip852)\" cx=\"1452.6\" cy=\"532.76\" r=\"10.8\" fill=\"#000000\" fill-rule=\"evenodd\" fill-opacity=\"1\" stroke=\"none\"/>\n",
       "<circle clip-path=\"url(#clip852)\" cx=\"972.517\" cy=\"816.008\" r=\"10.8\" fill=\"#000000\" fill-rule=\"evenodd\" fill-opacity=\"1\" stroke=\"none\"/>\n",
       "<circle clip-path=\"url(#clip852)\" cx=\"1092.54\" cy=\"859.184\" r=\"10.8\" fill=\"#000000\" fill-rule=\"evenodd\" fill-opacity=\"1\" stroke=\"none\"/>\n",
       "<circle clip-path=\"url(#clip852)\" cx=\"1092.54\" cy=\"784.384\" r=\"10.8\" fill=\"#000000\" fill-rule=\"evenodd\" fill-opacity=\"1\" stroke=\"none\"/>\n",
       "<circle clip-path=\"url(#clip852)\" cx=\"932.51\" cy=\"873.389\" r=\"10.8\" fill=\"#000000\" fill-rule=\"evenodd\" fill-opacity=\"1\" stroke=\"none\"/>\n",
       "<circle clip-path=\"url(#clip852)\" cx=\"2292.75\" cy=\"251.512\" r=\"10.8\" fill=\"#000000\" fill-rule=\"evenodd\" fill-opacity=\"1\" stroke=\"none\"/>\n",
       "<circle clip-path=\"url(#clip852)\" cx=\"1692.64\" cy=\"515.848\" r=\"10.8\" fill=\"#000000\" fill-rule=\"evenodd\" fill-opacity=\"1\" stroke=\"none\"/>\n",
       "<circle clip-path=\"url(#clip852)\" cx=\"772.483\" cy=\"960.382\" r=\"10.8\" fill=\"#000000\" fill-rule=\"evenodd\" fill-opacity=\"1\" stroke=\"none\"/>\n",
       "<circle clip-path=\"url(#clip852)\" cx=\"1892.68\" cy=\"390.707\" r=\"10.8\" fill=\"#000000\" fill-rule=\"evenodd\" fill-opacity=\"1\" stroke=\"none\"/>\n",
       "<circle clip-path=\"url(#clip852)\" cx=\"1692.64\" cy=\"528.593\" r=\"10.8\" fill=\"#000000\" fill-rule=\"evenodd\" fill-opacity=\"1\" stroke=\"none\"/>\n",
       "<circle clip-path=\"url(#clip852)\" cx=\"1412.59\" cy=\"518.641\" r=\"10.8\" fill=\"#000000\" fill-rule=\"evenodd\" fill-opacity=\"1\" stroke=\"none\"/>\n",
       "<circle clip-path=\"url(#clip852)\" cx=\"1732.65\" cy=\"481.674\" r=\"10.8\" fill=\"#000000\" fill-rule=\"evenodd\" fill-opacity=\"1\" stroke=\"none\"/>\n",
       "<circle clip-path=\"url(#clip852)\" cx=\"2012.7\" cy=\"488.641\" r=\"10.8\" fill=\"#000000\" fill-rule=\"evenodd\" fill-opacity=\"1\" stroke=\"none\"/>\n",
       "<circle clip-path=\"url(#clip852)\" cx=\"1892.68\" cy=\"240.565\" r=\"10.8\" fill=\"#000000\" fill-rule=\"evenodd\" fill-opacity=\"1\" stroke=\"none\"/>\n",
       "<circle clip-path=\"url(#clip852)\" cx=\"1532.61\" cy=\"553.577\" r=\"10.8\" fill=\"#000000\" fill-rule=\"evenodd\" fill-opacity=\"1\" stroke=\"none\"/>\n",
       "<circle clip-path=\"url(#clip852)\" cx=\"1652.63\" cy=\"506.788\" r=\"10.8\" fill=\"#000000\" fill-rule=\"evenodd\" fill-opacity=\"1\" stroke=\"none\"/>\n",
       "<circle clip-path=\"url(#clip852)\" cx=\"372.414\" cy=\"1209.5\" r=\"10.8\" fill=\"#000000\" fill-rule=\"evenodd\" fill-opacity=\"1\" stroke=\"none\"/>\n",
       "<circle clip-path=\"url(#clip852)\" cx=\"1572.62\" cy=\"1384.24\" r=\"10.8\" fill=\"#000000\" fill-rule=\"evenodd\" fill-opacity=\"1\" stroke=\"none\"/>\n",
       "<polyline clip-path=\"url(#clip852)\" style=\"stroke:#0000ff; stroke-linecap:round; stroke-linejoin:round; stroke-width:8; stroke-opacity:1; fill:none\" points=\"292.4,1227.47 332.407,1206.47 372.414,1185.46 412.42,1164.46 452.427,1143.45 492.434,1122.45 532.441,1101.44 572.448,1080.44 612.455,1059.43 652.462,1038.43 692.469,1017.43 732.476,996.421 772.483,975.416 812.49,954.411 852.497,933.407 892.503,912.402 932.51,891.397 972.517,870.393 1012.52,849.388 1052.53,828.383 1092.54,807.379 1132.54,786.374 1172.55,765.369 1212.56,744.364 1252.57,723.36 1292.57,702.355 1332.58,681.35 1372.59,660.346 1412.59,639.341 1452.6,618.336 1492.61,597.332 1532.61,576.327 1572.62,555.322 1612.63,534.318 1652.63,513.313 1692.64,492.308 1732.65,471.304 1772.66,450.299 1812.66,429.294 1852.67,408.29 1892.68,387.285 1932.68,366.28 1972.69,345.276 2012.7,324.271 2052.7,303.266 2092.71,282.262 2132.72,261.257 2172.72,240.252 2212.73,219.248 2252.74,198.243 2292.75,177.238 \"/>\n",
       "</svg>\n"
      ]
     },
     "execution_count": 56,
     "metadata": {},
     "output_type": "execute_result"
    }
   ],
   "source": [
    "heights_data = [item.data for item in heights] # remember heights is full of Values, so need to do this to get the numbers\n",
    "\n",
    "x_line = minimum(heights_data):maximum(heights_data)\n",
    "y_line = m_guess.data * x_line .+ b_guess.data\n",
    "plot!(x_line, y_line, linewidth=2, color=:blue)"
   ]
  },
  {
   "cell_type": "markdown",
   "id": "509d2540-cfa9-4f59-b8c7-fcbcd38077a7",
   "metadata": {},
   "source": [
    "## *Tensor* Class\n",
    "\n",
    "The *Value* class from the original Micrograd is a great tool for understanding how backpropagation works and implementing gradient descent for simple problems like linear regression. Unfortunately though, it's far too slow to use for even simple neural net problems. "
   ]
  },
  {
   "cell_type": "code",
   "execution_count": 57,
   "id": "b15f4e7d-4046-47a4-b8b2-edecb8adc20c",
   "metadata": {},
   "outputs": [
    {
     "name": "stdout",
     "output_type": "stream",
     "text": [
      "Tensor([2.0, 3.0, 4.0])\n"
     ]
    }
   ],
   "source": [
    "x = Tensor([2.0, 3.0, 4.0]);\n",
    "println(x)"
   ]
  },
  {
   "cell_type": "code",
   "execution_count": 58,
   "id": "6ef0cfa5-4887-462a-9caf-8f4a8355200f",
   "metadata": {},
   "outputs": [
    {
     "name": "stdout",
     "output_type": "stream",
     "text": [
      "[2.0, 3.0, 4.0]\n",
      "[0.0, 0.0, 0.0]\n"
     ]
    }
   ],
   "source": [
    "println(x.data)\n",
    "println(x.grad)"
   ]
  },
  {
   "cell_type": "markdown",
   "id": "cb7c6550-dd16-4ec3-ad62-ca2c0a41181d",
   "metadata": {},
   "source": [
    "Right now the *Tensor* class pretty much has the bare minimum needed to implement a simple neural network. Here's a list of the operations currently supported:\n",
    "* **Addition**\n",
    "* **Matrix Multiplication / Dot Product**\n",
    "* **Relu**\n",
    "* **Softmax Activation / Cross Entropy Loss Combination**"
   ]
  },
  {
   "cell_type": "markdown",
   "id": "0da3ff27-94da-403b-a45b-3c8924a80902",
   "metadata": {},
   "source": [
    "Rather than testing out all of these individually, let's see if we can save some time by testing them all out at once:"
   ]
  },
  {
   "cell_type": "code",
   "execution_count": 59,
   "id": "2cee3ddf-edef-4cfa-82e4-1e2d6505d028",
   "metadata": {},
   "outputs": [
    {
     "name": "stdout",
     "output_type": "stream",
     "text": [
      "Tensor([2.772862491652698])\n"
     ]
    }
   ],
   "source": [
    "# Tensor test -- attempting a forward pass of a simple neural net\n",
    "\n",
    "# using Statistics\n",
    "# using Random\n",
    "# do we need these?\n",
    "\n",
    "inputs = Tensor(rand(2, 3)); # Matrix with shape (2,3) -- 2 batches, 3 input features per batch\n",
    "weights1 = Tensor(rand(3, 4)); # Matrix with shape (3,4) -- takes 3 inputs, has 4 neurons\n",
    "weights2 = Tensor(rand( 4, 5)); # Matrix with shape (4,5) -- takes 4 inputs, has 5 neurons\n",
    "biases1 = Tensor([1.0,1.0,1.0,1.0]); # Bias vector for first layer neurons\n",
    "biases2 = Tensor([1.0,1.0,1.0,1.0,1.0]); # Bias vector for second layer neurons\n",
    "\n",
    "\n",
    "layer1_out = relu(inputs * weights1 + biases1);\n",
    "\n",
    "layer2_out = layer1_out * weights2 + biases2;\n",
    "\n",
    "\n",
    "# important -- correct classes should be one-hot encoded and NOT a Tensor, just a regular matrix.\n",
    "y_true = [0 1 0 0 0;\n",
    "          0 0 0 1 0]\n",
    "\n",
    "loss = softmax_crossentropy(layer2_out,y_true)\n",
    "\n",
    "\n",
    "\n",
    "println(loss)"
   ]
  },
  {
   "cell_type": "markdown",
   "id": "678952b4-965a-4474-8775-c78b3c18d659",
   "metadata": {},
   "source": [
    "Now we can find the derivative of the loss with respect to the weights and biases (and inputs although that isn't as relevant)."
   ]
  },
  {
   "cell_type": "code",
   "execution_count": 60,
   "id": "057606e4-dd01-4309-b10e-ce5c073840f1",
   "metadata": {},
   "outputs": [
    {
     "name": "stdout",
     "output_type": "stream",
     "text": [
      "weights1 gradient:\n",
      "[0.2046139944945961 0.06259033856722422 0.18014051031771425 0.19580987481080733; 0.3023857160856418 0.06410190525727334 0.2569977362860747 0.20150416592760986; 0.03262747014056489 0.030956250575071634 0.035535716906009956 0.09613149530872982]\n",
      "\n",
      "weights2 gradient:\n",
      "[0.29491376697246063 -0.669834256266387 0.9158760114617528 -0.5620247896575492 0.02106926748972288; 0.3012581140794484 -0.7328430185246376 0.9413700239919081 -0.5311004107462406 0.021315291199521726; 0.27457163943309776 -0.6577121571815677 0.8567632218716404 -0.4930933635020999 0.0194706593789294; 0.43242223910498856 -1.1153689932822788 1.3587925817358677 -0.7061709600845608 0.030325132525983227]\n",
      "\n",
      "biases1 gradient:\n",
      "[0.28099184813683264, 0.12557702222540204, 0.26024848733122136, 0.39151253569668143]\n",
      "\n",
      "biases2 gradient:\n",
      "[0.2062891295950838, -0.46191386432846915, 0.6398559534902084, -0.3989972169481475, 0.014765998191324356]\n",
      "\n"
     ]
    }
   ],
   "source": [
    "backward(loss)\n",
    "\n",
    "println(\"weights1 gradient:\")\n",
    "println(weights1.grad)\n",
    "println()\n",
    "println(\"weights2 gradient:\")\n",
    "println(weights2.grad)\n",
    "println()\n",
    "println(\"biases1 gradient:\")\n",
    "println(biases1.grad)\n",
    "println()\n",
    "println(\"biases2 gradient:\")\n",
    "println(biases2.grad)\n",
    "println()"
   ]
  },
  {
   "cell_type": "markdown",
   "id": "685790af-e159-46da-a703-7539e27dc1e7",
   "metadata": {},
   "source": [
    "Pretty cool!"
   ]
  },
  {
   "cell_type": "markdown",
   "id": "28fee28f-c95f-4427-964d-79f5e8b7ca25",
   "metadata": {},
   "source": [
    "## MNIST Example\n",
    "\n",
    "Lastly, let's try out a real neural net example -- solving the MNIST image classification problem.\n",
    "\n",
    "You can download the MNIST data in CSV format here:\n",
    "https://www.kaggle.com/datasets/oddrationale/mnist-in-csv\n",
    "\n",
    "First, we'll read in the training and testing data..."
   ]
  },
  {
   "cell_type": "code",
   "execution_count": 61,
   "id": "002eeed6-4c09-4a1c-ac1e-1d196eb8c8b3",
   "metadata": {},
   "outputs": [],
   "source": [
    "## read training data\n",
    "\n",
    "X = []\n",
    "y = []\n",
    "global first_row = true\n",
    "open(\"mnist_data/mnist_train.csv\", \"r\") do file\n",
    "    for line in eachline(file)\n",
    "\n",
    "        if first_row  # Skip the first row\n",
    "            global first_row = false\n",
    "            continue\n",
    "        end\n",
    "\n",
    "        # Split the line by comma and strip whitespace\n",
    "        row = parse.(Float64, strip.(split(line, ',')))\n",
    "\n",
    "        push!(y, row[1])\n",
    "        push!(X, row[2:length(row)])\n",
    "    end\n",
    "end\n",
    "\n",
    "X= hcat(X...)';\n",
    "X = X / 255.0;\n",
    "\n",
    "\n",
    "\n",
    "## read testing data\n",
    "\n",
    "X_test = []\n",
    "y_test = []\n",
    "global first_row = true\n",
    "open(\"mnist_data/mnist_test.csv\", \"r\") do file\n",
    "    for line in eachline(file)\n",
    "\n",
    "        if first_row  # Skip the first row\n",
    "            global first_row = false\n",
    "            continue\n",
    "        end\n",
    "\n",
    "        # Split the line by comma and strip whitespace\n",
    "        row = parse.(Float64, strip.(split(line, ',')))\n",
    "\n",
    "        push!(y_test, row[1])\n",
    "        push!(X_test, row[2:length(row)])\n",
    "    end\n",
    "end\n",
    "\n",
    "X_test = hcat(X_test...)';\n",
    "X_test = X_test / 255.0;"
   ]
  },
  {
   "cell_type": "markdown",
   "id": "ce7318b1-a09a-41ad-9bc0-2fdae2c0e7ff",
   "metadata": {},
   "source": [
    "Next, we define the model..."
   ]
  },
  {
   "cell_type": "code",
   "execution_count": 62,
   "id": "7ed891fa-52d1-471a-adb0-f9b4d73e7ddf",
   "metadata": {},
   "outputs": [],
   "source": [
    "## define model\n",
    "\n",
    "weights1 = Tensor(0.01 * rand(784, 128));\n",
    "weights2 = Tensor(0.01 * rand(128, 10));\n",
    "\n",
    "biases1 = Tensor(zeros(128));\n",
    "biases2 = Tensor(zeros(10));\n",
    "\n",
    "\n",
    "batch_size = 100;\n",
    "num_classes = 10;  # total number of classes\n",
    "lr = 0.1;\n",
    "epochs = 2;"
   ]
  },
  {
   "cell_type": "markdown",
   "id": "2a68aa05-e480-42e8-9c8b-380db2720e3b",
   "metadata": {},
   "source": [
    "Now, we train the model..."
   ]
  },
  {
   "cell_type": "code",
   "execution_count": 63,
   "id": "d235a86d-f825-43a9-9823-d6af2dda7248",
   "metadata": {},
   "outputs": [
    {
     "name": "stdout",
     "output_type": "stream",
     "text": [
      "Epoch: 1, run: 10, loss: 2.296\n",
      "Epoch: 1, run: 20, loss: 2.266\n",
      "Epoch: 1, run: 30, loss: 2.291\n",
      "Epoch: 1, run: 40, loss: 2.238\n",
      "Epoch: 1, run: 50, loss: 2.159\n",
      "Epoch: 1, run: 60, loss: 2.0\n",
      "Epoch: 1, run: 70, loss: 1.73\n",
      "Epoch: 1, run: 80, loss: 1.548\n",
      "Epoch: 1, run: 90, loss: 1.299\n",
      "Epoch: 1, run: 100, loss: 1.119\n",
      "Epoch: 1, run: 110, loss: 1.073\n",
      "Epoch: 1, run: 120, loss: 0.973\n",
      "Epoch: 1, run: 130, loss: 0.953\n",
      "Epoch: 1, run: 140, loss: 0.954\n",
      "Epoch: 1, run: 150, loss: 0.777\n",
      "Epoch: 1, run: 160, loss: 0.759\n",
      "Epoch: 1, run: 170, loss: 0.832\n",
      "Epoch: 1, run: 180, loss: 0.528\n",
      "Epoch: 1, run: 190, loss: 0.507\n",
      "Epoch: 1, run: 200, loss: 0.543\n",
      "Epoch: 1, run: 210, loss: 0.756\n",
      "Epoch: 1, run: 220, loss: 0.482\n",
      "Epoch: 1, run: 230, loss: 0.415\n",
      "Epoch: 1, run: 240, loss: 0.573\n",
      "Epoch: 1, run: 250, loss: 0.627\n",
      "Epoch: 1, run: 260, loss: 0.447\n",
      "Epoch: 1, run: 270, loss: 0.388\n",
      "Epoch: 1, run: 280, loss: 0.384\n",
      "Epoch: 1, run: 290, loss: 0.382\n",
      "Epoch: 1, run: 300, loss: 0.664\n",
      "Epoch: 1, run: 310, loss: 0.451\n",
      "Epoch: 1, run: 320, loss: 0.439\n",
      "Epoch: 1, run: 330, loss: 0.385\n",
      "Epoch: 1, run: 340, loss: 0.221\n",
      "Epoch: 1, run: 350, loss: 0.365\n",
      "Epoch: 1, run: 360, loss: 0.362\n",
      "Epoch: 1, run: 370, loss: 0.292\n",
      "Epoch: 1, run: 380, loss: 0.485\n",
      "Epoch: 1, run: 390, loss: 0.289\n",
      "Epoch: 1, run: 400, loss: 0.5\n",
      "Epoch: 1, run: 410, loss: 0.372\n",
      "Epoch: 1, run: 420, loss: 0.455\n",
      "Epoch: 1, run: 430, loss: 0.528\n",
      "Epoch: 1, run: 440, loss: 0.475\n",
      "Epoch: 1, run: 450, loss: 0.426\n",
      "Epoch: 1, run: 460, loss: 0.458\n",
      "Epoch: 1, run: 470, loss: 0.327\n",
      "Epoch: 1, run: 480, loss: 0.571\n",
      "Epoch: 1, run: 490, loss: 0.542\n",
      "Epoch: 1, run: 500, loss: 0.333\n",
      "Epoch: 1, run: 510, loss: 0.206\n",
      "Epoch: 1, run: 520, loss: 0.455\n",
      "Epoch: 1, run: 530, loss: 0.732\n",
      "Epoch: 1, run: 540, loss: 0.519\n",
      "Epoch: 1, run: 550, loss: 0.595\n",
      "Epoch: 1, run: 560, loss: 0.202\n",
      "Epoch: 1, run: 570, loss: 0.275\n",
      "Epoch: 1, run: 580, loss: 0.241\n",
      "Epoch: 1, run: 590, loss: 0.069\n",
      "Epoch: 1, run: 600, loss: 0.382\n",
      "Epoch: 2, run: 610, loss: 0.404\n",
      "Epoch: 2, run: 620, loss: 0.216\n",
      "Epoch: 2, run: 630, loss: 0.308\n",
      "Epoch: 2, run: 640, loss: 0.179\n",
      "Epoch: 2, run: 650, loss: 0.399\n",
      "Epoch: 2, run: 660, loss: 0.264\n",
      "Epoch: 2, run: 670, loss: 0.422\n",
      "Epoch: 2, run: 680, loss: 0.341\n",
      "Epoch: 2, run: 690, loss: 0.332\n",
      "Epoch: 2, run: 700, loss: 0.231\n",
      "Epoch: 2, run: 710, loss: 0.277\n",
      "Epoch: 2, run: 720, loss: 0.232\n",
      "Epoch: 2, run: 730, loss: 0.447\n",
      "Epoch: 2, run: 740, loss: 0.564\n",
      "Epoch: 2, run: 750, loss: 0.262\n",
      "Epoch: 2, run: 760, loss: 0.472\n",
      "Epoch: 2, run: 770, loss: 0.378\n",
      "Epoch: 2, run: 780, loss: 0.215\n",
      "Epoch: 2, run: 790, loss: 0.221\n",
      "Epoch: 2, run: 800, loss: 0.31\n",
      "Epoch: 2, run: 810, loss: 0.716\n",
      "Epoch: 2, run: 820, loss: 0.326\n",
      "Epoch: 2, run: 830, loss: 0.177\n",
      "Epoch: 2, run: 840, loss: 0.416\n",
      "Epoch: 2, run: 850, loss: 0.424\n",
      "Epoch: 2, run: 860, loss: 0.271\n",
      "Epoch: 2, run: 870, loss: 0.208\n",
      "Epoch: 2, run: 880, loss: 0.203\n",
      "Epoch: 2, run: 890, loss: 0.271\n",
      "Epoch: 2, run: 900, loss: 0.527\n",
      "Epoch: 2, run: 910, loss: 0.318\n",
      "Epoch: 2, run: 920, loss: 0.308\n",
      "Epoch: 2, run: 930, loss: 0.287\n",
      "Epoch: 2, run: 940, loss: 0.142\n",
      "Epoch: 2, run: 950, loss: 0.269\n",
      "Epoch: 2, run: 960, loss: 0.265\n",
      "Epoch: 2, run: 970, loss: 0.182\n",
      "Epoch: 2, run: 980, loss: 0.42\n",
      "Epoch: 2, run: 990, loss: 0.209\n",
      "Epoch: 2, run: 1000, loss: 0.382\n",
      "Epoch: 2, run: 1010, loss: 0.294\n",
      "Epoch: 2, run: 1020, loss: 0.371\n",
      "Epoch: 2, run: 1030, loss: 0.432\n",
      "Epoch: 2, run: 1040, loss: 0.394\n",
      "Epoch: 2, run: 1050, loss: 0.348\n",
      "Epoch: 2, run: 1060, loss: 0.399\n",
      "Epoch: 2, run: 1070, loss: 0.257\n",
      "Epoch: 2, run: 1080, loss: 0.533\n",
      "Epoch: 2, run: 1090, loss: 0.505\n",
      "Epoch: 2, run: 1100, loss: 0.264\n",
      "Epoch: 2, run: 1110, loss: 0.143\n",
      "Epoch: 2, run: 1120, loss: 0.413\n",
      "Epoch: 2, run: 1130, loss: 0.701\n",
      "Epoch: 2, run: 1140, loss: 0.458\n",
      "Epoch: 2, run: 1150, loss: 0.513\n",
      "Epoch: 2, run: 1160, loss: 0.174\n",
      "Epoch: 2, run: 1170, loss: 0.256\n",
      "Epoch: 2, run: 1180, loss: 0.194\n",
      "Epoch: 2, run: 1190, loss: 0.048\n",
      "Epoch: 2, run: 1200, loss: 0.353\n"
     ]
    }
   ],
   "source": [
    "\n",
    "global run = 1\n",
    "for epoch in 1:epochs\n",
    "\n",
    "    for i in 1:batch_size:size(X,1)\n",
    "\n",
    "\n",
    "        ## get current batch\n",
    "        batch_X = X[i:i+batch_size-1, :]\n",
    "        batch_X = Tensor(batch_X)\n",
    "        batch_y = y[i:i+batch_size-1]\n",
    "\n",
    "\n",
    "\n",
    "        ## convert batch_y to one-hot\n",
    "        batch_y_one_hot = zeros(batch_size,num_classes)\n",
    "        for batch_ind in 1:batch_size\n",
    "            batch_y_one_hot[batch_ind,Int.(batch_y)[batch_ind]+1] = 1\n",
    "        end\n",
    "\n",
    "\n",
    "\n",
    "        ## zero grads\n",
    "        weights1.grad .= 0\n",
    "        weights2.grad .= 0\n",
    "        biases1.grad .= 0\n",
    "        biases2.grad .= 0\n",
    "\n",
    "\n",
    "\n",
    "        ## forward pass\n",
    "        layer1_out = relu(batch_X * weights1 + biases1)\n",
    "        layer2_out = layer1_out * weights2 + biases2\n",
    "        loss = softmax_crossentropy(layer2_out,batch_y_one_hot)\n",
    "\n",
    "\n",
    "\n",
    "        ## backward pass\n",
    "        backward(loss)\n",
    "\n",
    "\n",
    "        ## update params\n",
    "        weights1.data -= weights1.grad .* lr\n",
    "        weights2.data -= weights2.grad .* lr\n",
    "        biases1.data -= biases1.grad .* lr\n",
    "        biases2.data -= biases2.grad .* lr\n",
    "\n",
    "\n",
    "        if run % 10 == 0\n",
    "            println(\"Epoch: $epoch, run: $run, loss: $(round(loss.data[1], digits=3))\")\n",
    "        end\n",
    "        \n",
    "        global run += 1\n",
    "\n",
    "    end\n",
    "end\n"
   ]
  },
  {
   "cell_type": "markdown",
   "id": "9fa963c8-c33c-4eff-a0f3-cc0d930ec0e9",
   "metadata": {},
   "source": [
    "Finally, we check out performance on the testing set..."
   ]
  },
  {
   "cell_type": "code",
   "execution_count": 64,
   "id": "f3bb35d3-0dfa-4168-9b67-3debad46fd58",
   "metadata": {},
   "outputs": [
    {
     "name": "stdout",
     "output_type": "stream",
     "text": [
      "0.9071\n"
     ]
    }
   ],
   "source": [
    "global correct = 0\n",
    "global total = 0\n",
    "for i in 1:length(y_test)\n",
    "    X_in = X_test[i:i,:] ## need to keep this (1,784), not (784,)\n",
    "    X_in = Tensor(X_in)\n",
    "    y_true = y_test[i]\n",
    "\n",
    "    layer1_out = relu(X_in * weights1 + biases1)\n",
    "    layer2_out = layer1_out * weights2 + biases2\n",
    "\n",
    "\n",
    "    pred_argmax = argmax(layer2_out.data, dims=2)[1][2]\n",
    "\n",
    "    if pred_argmax-1 == y_true\n",
    "        global correct +=1\n",
    "    end\n",
    "    global total += 1\n",
    "\n",
    "end\n",
    "\n",
    "println(correct/total)"
   ]
  }
 ],
 "metadata": {
  "kernelspec": {
   "display_name": "Julia 1.6.7",
   "language": "julia",
   "name": "julia-1.6"
  },
  "language_info": {
   "file_extension": ".jl",
   "mimetype": "application/julia",
   "name": "julia",
   "version": "1.6.7"
  }
 },
 "nbformat": 4,
 "nbformat_minor": 5
}
